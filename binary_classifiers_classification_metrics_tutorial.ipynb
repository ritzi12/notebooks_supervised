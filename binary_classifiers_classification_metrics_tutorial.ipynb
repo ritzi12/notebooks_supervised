{
  "metadata": {
    "kernelspec": {
      "language": "python",
      "display_name": "Python 3",
      "name": "python3"
    },
    "language_info": {
      "name": "python",
      "version": "3.7.12",
      "mimetype": "text/x-python",
      "codemirror_mode": {
        "name": "ipython",
        "version": 3
      },
      "pygments_lexer": "ipython3",
      "nbconvert_exporter": "python",
      "file_extension": ".py"
    },
    "colab": {
      "provenance": [],
      "include_colab_link": true
    }
  },
  "nbformat_minor": 0,
  "nbformat": 4,
  "cells": [
    {
      "cell_type": "markdown",
      "metadata": {
        "id": "view-in-github",
        "colab_type": "text"
      },
      "source": [
        "<a href=\"https://colab.research.google.com/github/ritzi12/notebooks_supervised/blob/main/binary_classifiers_classification_metrics_tutorial.ipynb\" target=\"_parent\"><img src=\"https://colab.research.google.com/assets/colab-badge.svg\" alt=\"Open In Colab\"/></a>"
      ]
    },
    {
      "cell_type": "code",
      "source": [
        "# This Python 3 environment comes with many helpful analytics libraries installed\n",
        "# It is defined by the kaggle/python Docker image: https://github.com/kaggle/docker-python\n",
        "# For example, here's several helpful packages to load\n",
        "\n",
        "import numpy as np # linear algebra\n",
        "import pandas as pd # data processing, CSV file I/O (e.g. pd.read_csv)\n",
        "\n",
        "# Input data files are available in the read-only \"../input/\" directory\n",
        "# For example, running this (by clicking run or pressing Shift+Enter) will list all files under the input directory\n",
        "\n",
        "import os\n",
        "for dirname, _, filenames in os.walk('/kaggle/input'):\n",
        "    for filename in filenames:\n",
        "        print(os.path.join(dirname, filename))\n",
        "\n",
        "# You can write up to 20GB to the current directory (/kaggle/working/) that gets preserved as output when you create a version using \"Save & Run All\"\n",
        "# You can also write temporary files to /kaggle/temp/, but they won't be saved outside of the current session"
      ],
      "metadata": {
        "_uuid": "8f2839f25d086af736a60e9eeb907d3b93b6e0e5",
        "_cell_guid": "b1076dfc-b9ad-4769-8c92-a6c4dae69d19",
        "execution": {
          "iopub.status.busy": "2022-01-27T17:29:10.408142Z",
          "iopub.execute_input": "2022-01-27T17:29:10.408855Z",
          "iopub.status.idle": "2022-01-27T17:29:10.43964Z",
          "shell.execute_reply.started": "2022-01-27T17:29:10.408753Z",
          "shell.execute_reply": "2022-01-27T17:29:10.438901Z"
        },
        "trusted": true,
        "id": "cH6jv8UXoNeb"
      },
      "execution_count": null,
      "outputs": []
    },
    {
      "cell_type": "markdown",
      "source": [
        "This notebook is a tutorial on various classifiers that can be used for binary classifications and also we will go through various classification metrics used to evaluate such a classifier."
      ],
      "metadata": {
        "id": "OPMHY8KkoNek"
      }
    },
    {
      "cell_type": "code",
      "source": [
        "#import important libraries\n",
        "import pandas as pd\n",
        "from sklearn.datasets import fetch_openml\n",
        "import numpy as np\n"
      ],
      "metadata": {
        "execution": {
          "iopub.status.busy": "2022-01-28T07:33:20.279968Z",
          "iopub.execute_input": "2022-01-28T07:33:20.280451Z",
          "iopub.status.idle": "2022-01-28T07:33:20.366390Z",
          "shell.execute_reply.started": "2022-01-28T07:33:20.280388Z",
          "shell.execute_reply": "2022-01-28T07:33:20.365530Z"
        },
        "trusted": true,
        "id": "hpyQkkUIoNeu"
      },
      "execution_count": null,
      "outputs": []
    },
    {
      "cell_type": "code",
      "source": [
        "train=pd.read_csv('../input/digit-recognizer/train.csv')\n",
        "train.head()"
      ],
      "metadata": {
        "execution": {
          "iopub.status.busy": "2022-01-28T07:33:22.580103Z",
          "iopub.execute_input": "2022-01-28T07:33:22.580668Z",
          "iopub.status.idle": "2022-01-28T07:33:26.301901Z",
          "shell.execute_reply.started": "2022-01-28T07:33:22.580629Z",
          "shell.execute_reply": "2022-01-28T07:33:26.300992Z"
        },
        "trusted": true,
        "id": "zaMEaPFeoNew",
        "outputId": "ac42b861-a8e1-4e4e-c94d-417911965043"
      },
      "execution_count": null,
      "outputs": [
        {
          "execution_count": 3,
          "output_type": "execute_result",
          "data": {
            "text/plain": "   label  pixel0  pixel1  pixel2  pixel3  pixel4  pixel5  pixel6  pixel7  \\\n0      1       0       0       0       0       0       0       0       0   \n1      0       0       0       0       0       0       0       0       0   \n2      1       0       0       0       0       0       0       0       0   \n3      4       0       0       0       0       0       0       0       0   \n4      0       0       0       0       0       0       0       0       0   \n\n   pixel8  ...  pixel774  pixel775  pixel776  pixel777  pixel778  pixel779  \\\n0       0  ...         0         0         0         0         0         0   \n1       0  ...         0         0         0         0         0         0   \n2       0  ...         0         0         0         0         0         0   \n3       0  ...         0         0         0         0         0         0   \n4       0  ...         0         0         0         0         0         0   \n\n   pixel780  pixel781  pixel782  pixel783  \n0         0         0         0         0  \n1         0         0         0         0  \n2         0         0         0         0  \n3         0         0         0         0  \n4         0         0         0         0  \n\n[5 rows x 785 columns]",
            "text/html": "<div>\n<style scoped>\n    .dataframe tbody tr th:only-of-type {\n        vertical-align: middle;\n    }\n\n    .dataframe tbody tr th {\n        vertical-align: top;\n    }\n\n    .dataframe thead th {\n        text-align: right;\n    }\n</style>\n<table border=\"1\" class=\"dataframe\">\n  <thead>\n    <tr style=\"text-align: right;\">\n      <th></th>\n      <th>label</th>\n      <th>pixel0</th>\n      <th>pixel1</th>\n      <th>pixel2</th>\n      <th>pixel3</th>\n      <th>pixel4</th>\n      <th>pixel5</th>\n      <th>pixel6</th>\n      <th>pixel7</th>\n      <th>pixel8</th>\n      <th>...</th>\n      <th>pixel774</th>\n      <th>pixel775</th>\n      <th>pixel776</th>\n      <th>pixel777</th>\n      <th>pixel778</th>\n      <th>pixel779</th>\n      <th>pixel780</th>\n      <th>pixel781</th>\n      <th>pixel782</th>\n      <th>pixel783</th>\n    </tr>\n  </thead>\n  <tbody>\n    <tr>\n      <th>0</th>\n      <td>1</td>\n      <td>0</td>\n      <td>0</td>\n      <td>0</td>\n      <td>0</td>\n      <td>0</td>\n      <td>0</td>\n      <td>0</td>\n      <td>0</td>\n      <td>0</td>\n      <td>...</td>\n      <td>0</td>\n      <td>0</td>\n      <td>0</td>\n      <td>0</td>\n      <td>0</td>\n      <td>0</td>\n      <td>0</td>\n      <td>0</td>\n      <td>0</td>\n      <td>0</td>\n    </tr>\n    <tr>\n      <th>1</th>\n      <td>0</td>\n      <td>0</td>\n      <td>0</td>\n      <td>0</td>\n      <td>0</td>\n      <td>0</td>\n      <td>0</td>\n      <td>0</td>\n      <td>0</td>\n      <td>0</td>\n      <td>...</td>\n      <td>0</td>\n      <td>0</td>\n      <td>0</td>\n      <td>0</td>\n      <td>0</td>\n      <td>0</td>\n      <td>0</td>\n      <td>0</td>\n      <td>0</td>\n      <td>0</td>\n    </tr>\n    <tr>\n      <th>2</th>\n      <td>1</td>\n      <td>0</td>\n      <td>0</td>\n      <td>0</td>\n      <td>0</td>\n      <td>0</td>\n      <td>0</td>\n      <td>0</td>\n      <td>0</td>\n      <td>0</td>\n      <td>...</td>\n      <td>0</td>\n      <td>0</td>\n      <td>0</td>\n      <td>0</td>\n      <td>0</td>\n      <td>0</td>\n      <td>0</td>\n      <td>0</td>\n      <td>0</td>\n      <td>0</td>\n    </tr>\n    <tr>\n      <th>3</th>\n      <td>4</td>\n      <td>0</td>\n      <td>0</td>\n      <td>0</td>\n      <td>0</td>\n      <td>0</td>\n      <td>0</td>\n      <td>0</td>\n      <td>0</td>\n      <td>0</td>\n      <td>...</td>\n      <td>0</td>\n      <td>0</td>\n      <td>0</td>\n      <td>0</td>\n      <td>0</td>\n      <td>0</td>\n      <td>0</td>\n      <td>0</td>\n      <td>0</td>\n      <td>0</td>\n    </tr>\n    <tr>\n      <th>4</th>\n      <td>0</td>\n      <td>0</td>\n      <td>0</td>\n      <td>0</td>\n      <td>0</td>\n      <td>0</td>\n      <td>0</td>\n      <td>0</td>\n      <td>0</td>\n      <td>0</td>\n      <td>...</td>\n      <td>0</td>\n      <td>0</td>\n      <td>0</td>\n      <td>0</td>\n      <td>0</td>\n      <td>0</td>\n      <td>0</td>\n      <td>0</td>\n      <td>0</td>\n      <td>0</td>\n    </tr>\n  </tbody>\n</table>\n<p>5 rows × 785 columns</p>\n</div>"
          },
          "metadata": {}
        }
      ]
    },
    {
      "cell_type": "code",
      "source": [
        "train.shape #42,000 rows of data with each row having (28*28=784 features or col with pixel values)"
      ],
      "metadata": {
        "execution": {
          "iopub.status.busy": "2022-01-28T07:33:29.013172Z",
          "iopub.execute_input": "2022-01-28T07:33:29.013485Z",
          "iopub.status.idle": "2022-01-28T07:33:29.020657Z",
          "shell.execute_reply.started": "2022-01-28T07:33:29.013453Z",
          "shell.execute_reply": "2022-01-28T07:33:29.019526Z"
        },
        "trusted": true,
        "id": "Kst39J4RoNey",
        "outputId": "3f777968-5201-444d-c76e-803d28557eb9"
      },
      "execution_count": null,
      "outputs": [
        {
          "execution_count": 5,
          "output_type": "execute_result",
          "data": {
            "text/plain": "(42000, 785)"
          },
          "metadata": {}
        }
      ]
    },
    {
      "cell_type": "code",
      "source": [
        "X=train.iloc[:,1:]\n",
        "Y=train.label"
      ],
      "metadata": {
        "execution": {
          "iopub.status.busy": "2022-01-28T07:33:30.638670Z",
          "iopub.execute_input": "2022-01-28T07:33:30.638966Z",
          "iopub.status.idle": "2022-01-28T07:33:30.647175Z",
          "shell.execute_reply.started": "2022-01-28T07:33:30.638937Z",
          "shell.execute_reply": "2022-01-28T07:33:30.646349Z"
        },
        "trusted": true,
        "id": "DD_v0gxuoNez"
      },
      "execution_count": null,
      "outputs": []
    },
    {
      "cell_type": "code",
      "source": [
        "X.shape"
      ],
      "metadata": {
        "execution": {
          "iopub.status.busy": "2022-01-28T07:33:32.410198Z",
          "iopub.execute_input": "2022-01-28T07:33:32.410510Z",
          "iopub.status.idle": "2022-01-28T07:33:32.416242Z",
          "shell.execute_reply.started": "2022-01-28T07:33:32.410464Z",
          "shell.execute_reply": "2022-01-28T07:33:32.415478Z"
        },
        "trusted": true,
        "id": "c1qcB-D9oNe1",
        "outputId": "cf04677c-a633-42b4-d378-b32ac6285fea"
      },
      "execution_count": null,
      "outputs": [
        {
          "execution_count": 7,
          "output_type": "execute_result",
          "data": {
            "text/plain": "(42000, 784)"
          },
          "metadata": {}
        }
      ]
    },
    {
      "cell_type": "code",
      "source": [
        "test=pd.read_csv('../input/digit-recognizer/test.csv')\n",
        "test.head()"
      ],
      "metadata": {
        "execution": {
          "iopub.status.busy": "2022-01-28T07:33:34.363981Z",
          "iopub.execute_input": "2022-01-28T07:33:34.364273Z",
          "iopub.status.idle": "2022-01-28T07:33:36.631944Z",
          "shell.execute_reply.started": "2022-01-28T07:33:34.364239Z",
          "shell.execute_reply": "2022-01-28T07:33:36.630956Z"
        },
        "trusted": true,
        "id": "1_VMwMIYoNe3",
        "outputId": "f3e8a7d2-1394-4bff-ae9b-eb633477da2c"
      },
      "execution_count": null,
      "outputs": [
        {
          "execution_count": 8,
          "output_type": "execute_result",
          "data": {
            "text/plain": "   pixel0  pixel1  pixel2  pixel3  pixel4  pixel5  pixel6  pixel7  pixel8  \\\n0       0       0       0       0       0       0       0       0       0   \n1       0       0       0       0       0       0       0       0       0   \n2       0       0       0       0       0       0       0       0       0   \n3       0       0       0       0       0       0       0       0       0   \n4       0       0       0       0       0       0       0       0       0   \n\n   pixel9  ...  pixel774  pixel775  pixel776  pixel777  pixel778  pixel779  \\\n0       0  ...         0         0         0         0         0         0   \n1       0  ...         0         0         0         0         0         0   \n2       0  ...         0         0         0         0         0         0   \n3       0  ...         0         0         0         0         0         0   \n4       0  ...         0         0         0         0         0         0   \n\n   pixel780  pixel781  pixel782  pixel783  \n0         0         0         0         0  \n1         0         0         0         0  \n2         0         0         0         0  \n3         0         0         0         0  \n4         0         0         0         0  \n\n[5 rows x 784 columns]",
            "text/html": "<div>\n<style scoped>\n    .dataframe tbody tr th:only-of-type {\n        vertical-align: middle;\n    }\n\n    .dataframe tbody tr th {\n        vertical-align: top;\n    }\n\n    .dataframe thead th {\n        text-align: right;\n    }\n</style>\n<table border=\"1\" class=\"dataframe\">\n  <thead>\n    <tr style=\"text-align: right;\">\n      <th></th>\n      <th>pixel0</th>\n      <th>pixel1</th>\n      <th>pixel2</th>\n      <th>pixel3</th>\n      <th>pixel4</th>\n      <th>pixel5</th>\n      <th>pixel6</th>\n      <th>pixel7</th>\n      <th>pixel8</th>\n      <th>pixel9</th>\n      <th>...</th>\n      <th>pixel774</th>\n      <th>pixel775</th>\n      <th>pixel776</th>\n      <th>pixel777</th>\n      <th>pixel778</th>\n      <th>pixel779</th>\n      <th>pixel780</th>\n      <th>pixel781</th>\n      <th>pixel782</th>\n      <th>pixel783</th>\n    </tr>\n  </thead>\n  <tbody>\n    <tr>\n      <th>0</th>\n      <td>0</td>\n      <td>0</td>\n      <td>0</td>\n      <td>0</td>\n      <td>0</td>\n      <td>0</td>\n      <td>0</td>\n      <td>0</td>\n      <td>0</td>\n      <td>0</td>\n      <td>...</td>\n      <td>0</td>\n      <td>0</td>\n      <td>0</td>\n      <td>0</td>\n      <td>0</td>\n      <td>0</td>\n      <td>0</td>\n      <td>0</td>\n      <td>0</td>\n      <td>0</td>\n    </tr>\n    <tr>\n      <th>1</th>\n      <td>0</td>\n      <td>0</td>\n      <td>0</td>\n      <td>0</td>\n      <td>0</td>\n      <td>0</td>\n      <td>0</td>\n      <td>0</td>\n      <td>0</td>\n      <td>0</td>\n      <td>...</td>\n      <td>0</td>\n      <td>0</td>\n      <td>0</td>\n      <td>0</td>\n      <td>0</td>\n      <td>0</td>\n      <td>0</td>\n      <td>0</td>\n      <td>0</td>\n      <td>0</td>\n    </tr>\n    <tr>\n      <th>2</th>\n      <td>0</td>\n      <td>0</td>\n      <td>0</td>\n      <td>0</td>\n      <td>0</td>\n      <td>0</td>\n      <td>0</td>\n      <td>0</td>\n      <td>0</td>\n      <td>0</td>\n      <td>...</td>\n      <td>0</td>\n      <td>0</td>\n      <td>0</td>\n      <td>0</td>\n      <td>0</td>\n      <td>0</td>\n      <td>0</td>\n      <td>0</td>\n      <td>0</td>\n      <td>0</td>\n    </tr>\n    <tr>\n      <th>3</th>\n      <td>0</td>\n      <td>0</td>\n      <td>0</td>\n      <td>0</td>\n      <td>0</td>\n      <td>0</td>\n      <td>0</td>\n      <td>0</td>\n      <td>0</td>\n      <td>0</td>\n      <td>...</td>\n      <td>0</td>\n      <td>0</td>\n      <td>0</td>\n      <td>0</td>\n      <td>0</td>\n      <td>0</td>\n      <td>0</td>\n      <td>0</td>\n      <td>0</td>\n      <td>0</td>\n    </tr>\n    <tr>\n      <th>4</th>\n      <td>0</td>\n      <td>0</td>\n      <td>0</td>\n      <td>0</td>\n      <td>0</td>\n      <td>0</td>\n      <td>0</td>\n      <td>0</td>\n      <td>0</td>\n      <td>0</td>\n      <td>...</td>\n      <td>0</td>\n      <td>0</td>\n      <td>0</td>\n      <td>0</td>\n      <td>0</td>\n      <td>0</td>\n      <td>0</td>\n      <td>0</td>\n      <td>0</td>\n      <td>0</td>\n    </tr>\n  </tbody>\n</table>\n<p>5 rows × 784 columns</p>\n</div>"
          },
          "metadata": {}
        }
      ]
    },
    {
      "cell_type": "code",
      "source": [
        "sum(Y==2)"
      ],
      "metadata": {
        "execution": {
          "iopub.status.busy": "2022-01-28T06:40:06.398911Z",
          "iopub.execute_input": "2022-01-28T06:40:06.399219Z",
          "iopub.status.idle": "2022-01-28T06:40:06.418095Z",
          "shell.execute_reply.started": "2022-01-28T06:40:06.399183Z",
          "shell.execute_reply": "2022-01-28T06:40:06.416942Z"
        },
        "trusted": true,
        "id": "xpJ69CF0oNe8",
        "outputId": "b93b567f-186d-4c6d-9170-00dc270ed069"
      },
      "execution_count": null,
      "outputs": [
        {
          "execution_count": 9,
          "output_type": "execute_result",
          "data": {
            "text/plain": "4177"
          },
          "metadata": {}
        }
      ]
    },
    {
      "cell_type": "code",
      "source": [
        "#PLOT images\n",
        "import matplotlib as mpl\n",
        "import matplotlib.pyplot as plt\n",
        "\n",
        "some_digit = X.loc[3,:].values\n",
        "some_digit_image = some_digit.reshape(28, 28)#reshaping into 2-D image matrix\n",
        "\n",
        "plt.imshow(some_digit_image)\n",
        "plt.axis(\"off\")\n",
        "plt.show()"
      ],
      "metadata": {
        "execution": {
          "iopub.status.busy": "2022-01-28T06:40:03.558964Z",
          "iopub.execute_input": "2022-01-28T06:40:03.559265Z",
          "iopub.status.idle": "2022-01-28T06:40:03.662462Z",
          "shell.execute_reply.started": "2022-01-28T06:40:03.559234Z",
          "shell.execute_reply": "2022-01-28T06:40:03.661560Z"
        },
        "trusted": true,
        "id": "XiPDw0jUoNe9",
        "outputId": "2aea6b09-182a-436d-ade7-450957eab859"
      },
      "execution_count": null,
      "outputs": [
        {
          "output_type": "display_data",
          "data": {
            "text/plain": "<Figure size 432x288 with 1 Axes>",
            "image/png": "[encoded data removed]"
          },
          "metadata": {
            "needs_background": "light"
          }
        }
      ]
    },
    {
      "cell_type": "markdown",
      "source": [
        "# Binary Classification Methods"
      ],
      "metadata": {
        "id": "tUHw7V5toNe-"
      }
    },
    {
      "cell_type": "code",
      "source": [
        "#Label Encoding : If digit is  2 value true else false\n",
        "\n",
        "#target value is in integer converting to boolean\n",
        "y_is_digit2= (Y==2)\n",
        "y_is_digit2"
      ],
      "metadata": {
        "execution": {
          "iopub.status.busy": "2022-01-28T07:33:40.133707Z",
          "iopub.execute_input": "2022-01-28T07:33:40.134307Z",
          "iopub.status.idle": "2022-01-28T07:33:40.143737Z",
          "shell.execute_reply.started": "2022-01-28T07:33:40.134269Z",
          "shell.execute_reply": "2022-01-28T07:33:40.142889Z"
        },
        "trusted": true,
        "id": "9VUTqVGjoNe_",
        "outputId": "579795a0-9d68-4795-d32f-287fe5780c78"
      },
      "execution_count": null,
      "outputs": [
        {
          "execution_count": 9,
          "output_type": "execute_result",
          "data": {
            "text/plain": "0        False\n1        False\n2        False\n3        False\n4        False\n         ...  \n41995    False\n41996    False\n41997    False\n41998    False\n41999    False\nName: label, Length: 42000, dtype: bool"
          },
          "metadata": {}
        }
      ]
    },
    {
      "cell_type": "code",
      "source": [
        "from sklearn.model_selection import train_test_split\n",
        "\n",
        "X_train,X_test,y_train,y_test=train_test_split(X,y_is_digit2,random_state=1)"
      ],
      "metadata": {
        "execution": {
          "iopub.status.busy": "2022-01-28T07:33:42.378394Z",
          "iopub.execute_input": "2022-01-28T07:33:42.379060Z",
          "iopub.status.idle": "2022-01-28T07:33:42.683696Z",
          "shell.execute_reply.started": "2022-01-28T07:33:42.379019Z",
          "shell.execute_reply": "2022-01-28T07:33:42.682839Z"
        },
        "trusted": true,
        "id": "mdKofSv5oNe_"
      },
      "execution_count": null,
      "outputs": []
    },
    {
      "cell_type": "code",
      "source": [
        "y_train"
      ],
      "metadata": {
        "execution": {
          "iopub.status.busy": "2022-01-28T07:33:44.406066Z",
          "iopub.execute_input": "2022-01-28T07:33:44.406344Z",
          "iopub.status.idle": "2022-01-28T07:33:44.415909Z",
          "shell.execute_reply.started": "2022-01-28T07:33:44.406314Z",
          "shell.execute_reply": "2022-01-28T07:33:44.415079Z"
        },
        "trusted": true,
        "id": "55BYgQquoNfA",
        "outputId": "201a0f83-8c7a-4231-fdb6-35fa871caed4"
      },
      "execution_count": null,
      "outputs": [
        {
          "execution_count": 11,
          "output_type": "execute_result",
          "data": {
            "text/plain": "25138    False\n40867    False\n17205    False\n3450     False\n1491     False\n         ...  \n7813     False\n32511    False\n5192      True\n12172    False\n33003    False\nName: label, Length: 31500, dtype: bool"
          },
          "metadata": {}
        }
      ]
    },
    {
      "cell_type": "markdown",
      "source": [
        "# 1) K-NEIGHBORS CLASSIFIER\n",
        "**KNeighborsClassifier Parameters**<br>\n",
        "`n_neighbors` = specify value of k <br>\n",
        "`weights`     = (default='uniform')<br>\n",
        "‘uniform’ : uniform weights. All points in each neighborhood are weighted equally.<br>\n",
        "‘distance’ : weight points by the inverse of their distance. in this case, closer neighbors of a query point will have a greater influence than neighbors which are further away.<br>\n",
        "[callable] : a user-defined function which accepts an array of distances, and returns an array of the same shape containing the weights.\n",
        "\n",
        "`algorithm`= (default='auto','kd_tree','ball_tree','brute')\n",
        "KDtree,Ball Tree - good effiecient for large datasets ,\n",
        "\n",
        "brute- useful for small datasets and more accurate as considers all datapoints\n",
        "\n",
        "`metric` = specifies distance metric default='minowski'\n",
        "\n",
        "\n"
      ],
      "metadata": {
        "id": "PC-ONld6oNfA"
      }
    },
    {
      "cell_type": "code",
      "source": [
        "from sklearn.neighbors import KNeighborsClassifier\n",
        "from random import seed\n",
        "\n",
        "seed(123) # setting  random seed for reproducibility\n",
        "\n",
        "#create instance of Knn classifier\n",
        "knn_clf=KNeighborsClassifier(n_neighbors=5,weights='uniform',algorithm='auto')\n",
        "\n",
        "#knn_clf.fit(X_train,y_train)# this training takes less time since KNN is lazy learning algorithm\n"
      ],
      "metadata": {
        "execution": {
          "iopub.status.busy": "2022-01-28T06:40:25.105135Z",
          "iopub.execute_input": "2022-01-28T06:40:25.105912Z",
          "iopub.status.idle": "2022-01-28T06:40:31.473120Z",
          "shell.execute_reply.started": "2022-01-28T06:40:25.105866Z",
          "shell.execute_reply": "2022-01-28T06:40:31.472269Z"
        },
        "trusted": true,
        "id": "O1cak4-ZoNfB",
        "outputId": "643128c8-b439-45a0-d9de-97ad897c112c"
      },
      "execution_count": null,
      "outputs": [
        {
          "execution_count": 13,
          "output_type": "execute_result",
          "data": {
            "text/plain": "KNeighborsClassifier()"
          },
          "metadata": {}
        }
      ]
    },
    {
      "cell_type": "code",
      "source": [
        "#knn_clf.score(X_test,y_test)"
      ],
      "metadata": {
        "execution": {
          "iopub.status.busy": "2022-01-28T06:34:33.826622Z",
          "iopub.execute_input": "2022-01-28T06:34:33.826886Z"
        },
        "trusted": true,
        "id": "2mCYPMoGoNfC"
      },
      "execution_count": null,
      "outputs": []
    },
    {
      "cell_type": "code",
      "source": [
        "#y_pred_knn=knn_clf.predict(X_test)"
      ],
      "metadata": {
        "trusted": true,
        "id": "0MBomag6oNfC"
      },
      "execution_count": null,
      "outputs": []
    },
    {
      "cell_type": "markdown",
      "source": [
        "## 2) Stochastic Gradient Descent Classifier\n",
        "\n",
        "This classifier has the advantage of being **capable of handling very large datasets efficiently**. This is in part because SGD deals with training instances independently, one at a time (which also makes SGD well suited for online learning)"
      ],
      "metadata": {
        "id": "7-dI3R9-oNfC"
      }
    },
    {
      "cell_type": "code",
      "source": [
        "from sklearn.linear_model import SGDClassifier\n",
        "\n",
        "sgd_clf = SGDClassifier(random_state=42)\n",
        "sgd_clf.fit(X_train, y_train)"
      ],
      "metadata": {
        "execution": {
          "iopub.status.busy": "2022-01-28T07:34:01.405616Z",
          "iopub.execute_input": "2022-01-28T07:34:01.406119Z",
          "iopub.status.idle": "2022-01-28T07:34:09.063318Z",
          "shell.execute_reply.started": "2022-01-28T07:34:01.406060Z",
          "shell.execute_reply": "2022-01-28T07:34:09.062433Z"
        },
        "trusted": true,
        "id": "7SGhhtbuoNfD",
        "outputId": "563322c5-047f-4a1b-98e4-32a0405d5960"
      },
      "execution_count": null,
      "outputs": [
        {
          "execution_count": 14,
          "output_type": "execute_result",
          "data": {
            "text/plain": "SGDClassifier(random_state=42)"
          },
          "metadata": {}
        }
      ]
    },
    {
      "cell_type": "code",
      "source": [
        "y_pred_sgd = sgd_clf.predict(X_test)\n",
        "sgd_clf.score(X_test,y_test)"
      ],
      "metadata": {
        "execution": {
          "iopub.status.busy": "2022-01-28T07:34:09.895122Z",
          "iopub.execute_input": "2022-01-28T07:34:09.895837Z",
          "iopub.status.idle": "2022-01-28T07:34:10.059834Z",
          "shell.execute_reply.started": "2022-01-28T07:34:09.895784Z",
          "shell.execute_reply": "2022-01-28T07:34:10.058932Z"
        },
        "trusted": true,
        "id": "pV4I_tX-oNfD",
        "outputId": "b03f5785-1600-4da8-ed1c-0ad9de3f693d"
      },
      "execution_count": null,
      "outputs": [
        {
          "execution_count": 19,
          "output_type": "execute_result",
          "data": {
            "text/plain": "0.9619047619047619"
          },
          "metadata": {}
        }
      ]
    },
    {
      "cell_type": "markdown",
      "source": [
        "## 3) Gaussian Naive Bayes Classifier\n",
        "\n",
        "Naive Bayes is the most common classifier for binary classification. It is fast and easy to calculate.Naive — Bayes is a classifier which uses Bayes Theorem. It calculates the probability for membership of a data-point to each class and assigns the label of the class with the highest probability.\n",
        "\n",
        "For our MNIST dataset we have continuous features so we can apply Gaussian Naive Bayes which assumes distribution of feature values as Gaussian Distribution ."
      ],
      "metadata": {
        "id": "y6D_b0qsoNfE"
      }
    },
    {
      "cell_type": "code",
      "source": [
        "from sklearn.naive_bayes  import GaussianNB\n",
        "\n",
        "gauss_clf= GaussianNB()\n",
        "gauss_clf.fit(X_train,y_train)\n",
        "\n",
        "gauss_clf.score(X_test,y_test)\n"
      ],
      "metadata": {
        "execution": {
          "iopub.status.busy": "2022-01-28T07:33:53.813898Z",
          "iopub.execute_input": "2022-01-28T07:33:53.814701Z",
          "iopub.status.idle": "2022-01-28T07:33:54.468133Z",
          "shell.execute_reply.started": "2022-01-28T07:33:53.814648Z",
          "shell.execute_reply": "2022-01-28T07:33:54.467213Z"
        },
        "trusted": true,
        "id": "3khy8Du7oNfF",
        "outputId": "45805586-894f-4258-acdb-dfa673be168f"
      },
      "execution_count": null,
      "outputs": [
        {
          "execution_count": 12,
          "output_type": "execute_result",
          "data": {
            "text/plain": "0.38152380952380954"
          },
          "metadata": {}
        }
      ]
    },
    {
      "cell_type": "code",
      "source": [
        "print('The mean of each pixel for True class',gauss_clf.theta_[1].shape)\n",
        "\n",
        "plt.imshow(gauss_clf.theta_[1].reshape(28,28))\n",
        "plt.axis('off')"
      ],
      "metadata": {
        "execution": {
          "iopub.status.busy": "2022-01-28T07:33:57.199511Z",
          "iopub.execute_input": "2022-01-28T07:33:57.199779Z",
          "iopub.status.idle": "2022-01-28T07:33:57.298325Z",
          "shell.execute_reply.started": "2022-01-28T07:33:57.199752Z",
          "shell.execute_reply": "2022-01-28T07:33:57.297490Z"
        },
        "trusted": true,
        "id": "1Zlk-H70oNfH",
        "outputId": "448ae8d8-6630-4e48-bbaa-232ea2cace4e"
      },
      "execution_count": null,
      "outputs": [
        {
          "name": "stdout",
          "text": "The mean of each pixel for True class (784,)\n",
          "output_type": "stream"
        },
        {
          "execution_count": 13,
          "output_type": "execute_result",
          "data": {
            "text/plain": "(-0.5, 27.5, 27.5, -0.5)"
          },
          "metadata": {}
        },
        {
          "output_type": "display_data",
          "data": {
            "text/plain": "<Figure size 432x288 with 1 Axes>",
            "image/png": "[encoded data removed]"
          },
          "metadata": {
            "needs_background": "light"
          }
        }
      ]
    },
    {
      "cell_type": "code",
      "source": [
        "y_pred_gauss=gauss_clf.predict(X_test)"
      ],
      "metadata": {
        "execution": {
          "iopub.status.busy": "2022-01-28T07:34:14.723560Z",
          "iopub.execute_input": "2022-01-28T07:34:14.723846Z",
          "iopub.status.idle": "2022-01-28T07:34:14.865762Z",
          "shell.execute_reply.started": "2022-01-28T07:34:14.723812Z",
          "shell.execute_reply": "2022-01-28T07:34:14.864828Z"
        },
        "trusted": true,
        "id": "RpPggpTaoNfH"
      },
      "execution_count": null,
      "outputs": []
    },
    {
      "cell_type": "markdown",
      "source": [
        "## 4) Logistic Regression Classifier\n",
        "\n",
        " It it the most common regression classifier .  Like a Linear Regression model, a Logistic Regression model computes a weighted sum of the input features (plus a bias term), but instead of outputting the result directly like the Linear Regression model does, it outputs the logistic or **sigmoid** function output which gives the probability of belonging to a class or not and output range of sigmoid function (0,1)"
      ],
      "metadata": {
        "id": "3_1KVeAWoNfI"
      }
    },
    {
      "cell_type": "code",
      "source": [
        "from sklearn.linear_model import LogisticRegression\n",
        "from sklearn.preprocessing import StandardScaler\n",
        "\n",
        "scaler=StandardScaler()\n",
        "scaler.fit(X_train)   #fit calculates the mean and std dev for each feature in data\n",
        "X_train_scaled=scaler.transform(X_train) #transforming the X_train feature inputs\n",
        "logis_clf=LogisticRegression(solver='sag')\n",
        "logis_clf.fit(X_train_scaled,y_train)"
      ],
      "metadata": {
        "execution": {
          "iopub.status.busy": "2022-01-28T07:34:17.509216Z",
          "iopub.execute_input": "2022-01-28T07:34:17.509527Z",
          "iopub.status.idle": "2022-01-28T07:34:38.033745Z",
          "shell.execute_reply.started": "2022-01-28T07:34:17.509493Z",
          "shell.execute_reply": "2022-01-28T07:34:38.032755Z"
        },
        "trusted": true,
        "id": "k-qo2rsioNfI",
        "outputId": "2f918ae0-1a43-4770-f9d0-79e5281faff0"
      },
      "execution_count": null,
      "outputs": [
        {
          "name": "stderr",
          "text": "/opt/conda/lib/python3.7/site-packages/sklearn/linear_model/_sag.py:330: ConvergenceWarning: The max_iter was reached which means the coef_ did not converge\n  \"the coef_ did not converge\", ConvergenceWarning)\n",
          "output_type": "stream"
        },
        {
          "execution_count": 21,
          "output_type": "execute_result",
          "data": {
            "text/plain": "LogisticRegression(solver='sag')"
          },
          "metadata": {}
        }
      ]
    },
    {
      "cell_type": "code",
      "source": [
        "X_test_scaled=scaler.transform(X_test) #scaling the test set note we dont use fit on test set which is wrong since it leads to data leakage\n",
        "logis_clf.score(X_test_scaled,y_test)"
      ],
      "metadata": {
        "execution": {
          "iopub.status.busy": "2022-01-28T07:34:38.035855Z",
          "iopub.execute_input": "2022-01-28T07:34:38.036168Z",
          "iopub.status.idle": "2022-01-28T07:34:38.108965Z",
          "shell.execute_reply.started": "2022-01-28T07:34:38.036126Z",
          "shell.execute_reply": "2022-01-28T07:34:38.108053Z"
        },
        "trusted": true,
        "id": "yO0BcJ_goNfI",
        "outputId": "83eeec44-4c35-4729-f989-9ce480a68d83"
      },
      "execution_count": null,
      "outputs": [
        {
          "execution_count": 22,
          "output_type": "execute_result",
          "data": {
            "text/plain": "0.979047619047619"
          },
          "metadata": {}
        }
      ]
    },
    {
      "cell_type": "code",
      "source": [
        "y_pred_logis=logis_clf.predict(X_test)"
      ],
      "metadata": {
        "execution": {
          "iopub.status.busy": "2022-01-28T07:34:38.285963Z",
          "iopub.execute_input": "2022-01-28T07:34:38.286736Z",
          "iopub.status.idle": "2022-01-28T07:34:38.370718Z",
          "shell.execute_reply.started": "2022-01-28T07:34:38.286683Z",
          "shell.execute_reply": "2022-01-28T07:34:38.369760Z"
        },
        "trusted": true,
        "id": "pc8bhCUsoNfM"
      },
      "execution_count": null,
      "outputs": []
    },
    {
      "cell_type": "markdown",
      "source": [
        "## 5) Support Vector Machines\n",
        "\n",
        "SVM is a powerful classifier/regression algorithms . They are non-parametric and can construct complex decision boundaries."
      ],
      "metadata": {
        "id": "PjRZi-2_oNfM"
      }
    },
    {
      "cell_type": "code",
      "source": [
        "from sklearn.svm import SVC\n",
        "\n",
        "svc_clf=SVC(random_state=123,class_weight='balanced') #using default kernel 'rbf'\n",
        "svc_clf.fit(X_train,y_train)\n"
      ],
      "metadata": {
        "execution": {
          "iopub.status.busy": "2022-01-28T07:37:53.834896Z",
          "iopub.execute_input": "2022-01-28T07:37:53.835160Z",
          "iopub.status.idle": "2022-01-28T07:39:56.823067Z",
          "shell.execute_reply.started": "2022-01-28T07:37:53.835130Z",
          "shell.execute_reply": "2022-01-28T07:39:56.822239Z"
        },
        "trusted": true,
        "id": "pzOmb3fpoNfM",
        "outputId": "c4640dae-db24-406a-d2ef-b826a02afdf8"
      },
      "execution_count": null,
      "outputs": [
        {
          "execution_count": 40,
          "output_type": "execute_result",
          "data": {
            "text/plain": "SVC(class_weight='balanced', random_state=123)"
          },
          "metadata": {}
        }
      ]
    },
    {
      "cell_type": "code",
      "source": [
        "svc_clf.score(X_test,y_test)"
      ],
      "metadata": {
        "execution": {
          "iopub.status.busy": "2022-01-28T07:39:56.824608Z",
          "iopub.execute_input": "2022-01-28T07:39:56.824925Z",
          "iopub.status.idle": "2022-01-28T07:40:32.019411Z",
          "shell.execute_reply.started": "2022-01-28T07:39:56.824893Z",
          "shell.execute_reply": "2022-01-28T07:40:32.018499Z"
        },
        "trusted": true,
        "id": "kSKCRX9_oNfN",
        "outputId": "51d19e44-4e81-4a6a-f472-0a9e5810d725"
      },
      "execution_count": null,
      "outputs": [
        {
          "execution_count": 41,
          "output_type": "execute_result",
          "data": {
            "text/plain": "0.9948571428571429"
          },
          "metadata": {}
        }
      ]
    },
    {
      "cell_type": "code",
      "source": [
        "y_pred_svc=svc_clf.predict(X_test)"
      ],
      "metadata": {
        "execution": {
          "iopub.status.busy": "2022-01-28T07:41:07.304702Z",
          "iopub.execute_input": "2022-01-28T07:41:07.305045Z",
          "iopub.status.idle": "2022-01-28T07:41:42.637387Z",
          "shell.execute_reply.started": "2022-01-28T07:41:07.305013Z",
          "shell.execute_reply": "2022-01-28T07:41:42.636494Z"
        },
        "trusted": true,
        "id": "-cJlRB1ooNfN"
      },
      "execution_count": null,
      "outputs": []
    },
    {
      "cell_type": "markdown",
      "source": [
        "# Classification Evaluation Metrics"
      ],
      "metadata": {
        "id": "_qGc3U5ToNfN"
      }
    },
    {
      "cell_type": "markdown",
      "source": [
        "## Confusion Matrix\n",
        "\n",
        "\n",
        "A much better way to evaluate the performance of a classifier is to look at the confusion matrix. The general idea is to count the number of times instances of class A are classified as class B. To compute the confusion matrix, you first need to have a set of predictions so that they can be compared to the actual targets.\n",
        "\n",
        "We need to have predicted classes from each of our classifiers which we calculated earlier (y_pred_knn ,y_pred_sgd...etc.)"
      ],
      "metadata": {
        "id": "e8ArNNy3oNfO"
      }
    },
    {
      "cell_type": "code",
      "source": [
        "#CONFUSION MATRIX\n",
        "from sklearn.metrics import ConfusionMatrixDisplay,confusion_matrix\n",
        "import matplotlib.pyplot as plt\n",
        "\n",
        "#Confusion Matrix\n",
        "conf_mat=confusion_matrix(y_test,y_pred_logis)\n",
        "\n",
        "#Display Confusion Matrix\n",
        "ConfusionMatrixDisplay(conf_mat,display_labels=['Not Digit 2','Is Digit 2'])\n",
        "plt.title('Confusion Matrix for KNNeighbors whether a data is digit 2 or not ')\n",
        "plt.show()"
      ],
      "metadata": {
        "trusted": true,
        "id": "7RyRmto2oNfO",
        "outputId": "846a79e2-89e8-4611-e60a-45ba282cbfc2"
      },
      "execution_count": null,
      "outputs": [
        {
          "execution_count": 30,
          "output_type": "execute_result",
          "data": {
            "text/plain": "array([[8084, 1359],\n       [  40, 1017]])"
          },
          "metadata": {}
        }
      ]
    },
    {
      "cell_type": "code",
      "source": [
        "ig, ax = plt.subplots(figsize=(7.5, 7.5))\n",
        "ax.matshow(conf_mat, cmap=plt.cm.Blues, alpha=0.3)\n",
        "for i in range(conf_mat.shape[0]):\n",
        "    for j in range(conf_mat.shape[1]):\n",
        "        ax.text(x=j, y=i,s=conf_mat[i, j], va='center', ha='center', size='xx-large')\n",
        "\n",
        "plt.xlabel('Predictions', fontsize=18)\n",
        "plt.ylabel('Actuals', fontsize=18)\n",
        "plt.title('Confusion Matrix', fontsize=18)\n",
        "plt.show()"
      ],
      "metadata": {
        "execution": {
          "iopub.status.busy": "2022-01-28T07:36:10.443839Z",
          "iopub.execute_input": "2022-01-28T07:36:10.444136Z",
          "iopub.status.idle": "2022-01-28T07:36:10.698982Z",
          "shell.execute_reply.started": "2022-01-28T07:36:10.444101Z",
          "shell.execute_reply": "2022-01-28T07:36:10.697762Z"
        },
        "trusted": true,
        "id": "iXqZgnX7oNfO",
        "outputId": "69f73d14-c259-4c6d-a807-91b5f415bfbf"
      },
      "execution_count": null,
      "outputs": [
        {
          "output_type": "display_data",
          "data": {
            "text/plain": "<Figure size 540x540 with 1 Axes>",
            "image/png": "[encoded data removed]"
          },
          "metadata": {
            "needs_background": "light"
          }
        }
      ]
    },
    {
      "cell_type": "markdown",
      "source": [
        "## Normalized Confusion Matrix\n",
        "We can get normalized confusion matrix by using `normalize` argument of ConfusionMatrixDisplay\n",
        "\n",
        "Using `normalize` =(default ='None')<br>\n",
        "'all'=values divided by total datapoints,<br>\n",
        "'true'= each value divided by corresponding total true values for each class , in this diagonal represent recall<br>\n",
        "'pred'=each value divided by total predicted value for each class,diagonals represent precision<br>\n"
      ],
      "metadata": {
        "id": "p4yT1ZEIoNfP"
      }
    },
    {
      "cell_type": "code",
      "source": [
        "ConfusionMatrixDisplay.from_predictions(y_true=y_test ,y_pred=y_pred_logis,cmap='plasma',normalize='true',display_labels=['Not Digit 2','Is Digit 2'])\n",
        "plt.title('NOrmalized Confusion Matrix for KNNeighbors based on true values ')\n",
        "plt.show()\n",
        "print('Diagonals Represent Recall of each class')"
      ],
      "metadata": {
        "id": "jBrBHmcwoNfP"
      },
      "execution_count": null,
      "outputs": []
    },
    {
      "cell_type": "markdown",
      "source": [
        "## Classification Report\n"
      ],
      "metadata": {
        "id": "RMmRIzXAoNfd"
      }
    },
    {
      "cell_type": "markdown",
      "source": [
        "### 1.Precision\n",
        "TP/TP+FP = calculated wrt to predicted values.\n",
        "It measures “exactness” of our model . How exact or precise it is in predicting  true positive classes out of all classes that were predicted as positive .\n",
        " When cost of false positive is high High precision is required. Ex- spam email.\n",
        "\n",
        "\n",
        "### 2.Recall/Sensitivity\n",
        "\n",
        "TP/TP+FN = calculated wrt to true values.\n",
        "It “Measures ” completeness of model . How well our model in capture all positive cases out of all the data points.\n",
        "When cost of False Negative is high high recal is required .Ex- target customers to accept discount offer.\n",
        "\n",
        "\n",
        "### 3.Specificity\n",
        "\n",
        "TN/TN+FP  ==calculated wrt to true values.\n",
        "\n",
        "\n",
        "### 4.Accuracy\n",
        "\n",
        "Diagonal elements/Total datapoints = TP+TN/Total Datapoints\n",
        "\n",
        "*Not an accurate metric in case of imbalanced/skewed dataset.*\n",
        "\n",
        "\n",
        "### 5.F-1 Score\n",
        "Harmonic Mean of precision and Recall.F1 score is the harmonic mean of precision and recall (Equation 3-3). Whereas the regular mean treats all values equally, the harmonic mean gives much more weight to low values. As a result, the classifier will only get a high F1 score if both recall and precision are high.\n",
        "\n",
        "F1 score favors classifiers that have similar precision and recall.\n",
        "\n",
        "In some contexts you mostly care about precision, and in other contexts you really care about recall.\n"
      ],
      "metadata": {
        "id": "_VAAlUXyoNfe"
      }
    },
    {
      "cell_type": "code",
      "source": [
        "#CLassification Metric Report\n",
        "from sklearn.metrics import classification_report\n",
        "\n",
        "print(classification_report(y_test,y_pred_logis))"
      ],
      "metadata": {
        "execution": {
          "iopub.status.busy": "2022-01-28T07:36:43.929103Z",
          "iopub.execute_input": "2022-01-28T07:36:43.929553Z",
          "iopub.status.idle": "2022-01-28T07:36:43.956172Z",
          "shell.execute_reply.started": "2022-01-28T07:36:43.929518Z",
          "shell.execute_reply": "2022-01-28T07:36:43.955181Z"
        },
        "trusted": true,
        "id": "0MsAEkppoNff",
        "outputId": "2006c4fb-8648-448f-c7e6-250e2471ce4c"
      },
      "execution_count": null,
      "outputs": [
        {
          "name": "stdout",
          "text": "              precision    recall  f1-score   support\n\n       False       1.00      0.86      0.92      9443\n        True       0.43      0.96      0.59      1057\n\n    accuracy                           0.87     10500\n   macro avg       0.71      0.91      0.76     10500\nweighted avg       0.94      0.87      0.89     10500\n\n",
          "output_type": "stream"
        }
      ]
    },
    {
      "cell_type": "code",
      "source": [
        "# Calculating F-1 Score for all classifiers since we have imbalanced\n",
        "#dataset so F1 score metric more suitable for this case than accuracy\n",
        "from sklearn.metrics import f1_score\n",
        "\n",
        "\n",
        "score_df=[y_pred_gauss,y_pred_sgd,y_pred_svc,y_pred_logis]\n",
        "f1_scores=[]\n",
        "name=['Gauss','SGD','SVC','Logis']\n",
        "\n",
        "for score in score_df:\n",
        "  print(\"The f1 score\")\n",
        "  f1_scores.append(round(f1_score(y_test,score),3))\n",
        "  print(f1_scores)\n",
        "\n",
        "\n"
      ],
      "metadata": {
        "execution": {
          "iopub.status.busy": "2022-01-28T07:44:33.928705Z",
          "iopub.execute_input": "2022-01-28T07:44:33.929435Z",
          "iopub.status.idle": "2022-01-28T07:44:33.954260Z",
          "shell.execute_reply.started": "2022-01-28T07:44:33.929371Z",
          "shell.execute_reply": "2022-01-28T07:44:33.953474Z"
        },
        "trusted": true,
        "id": "bBEHgjRIoNff",
        "outputId": "67cdafe5-0c41-41f1-c229-5f7dace764e5"
      },
      "execution_count": null,
      "outputs": [
        {
          "name": "stdout",
          "text": "The f1 score\n[0.242]\nThe f1 score\n[0.242, 0.83]\nThe f1 score\n[0.242, 0.83, 0.975]\nThe f1 score\n[0.242, 0.83, 0.975, 0.592]\n",
          "output_type": "stream"
        }
      ]
    },
    {
      "cell_type": "code",
      "source": [
        "plt.plot(name,f1_scores,'r.-')\n",
        "plt.title('F1- Scores of various classifiers')"
      ],
      "metadata": {
        "execution": {
          "iopub.status.busy": "2022-01-28T07:44:41.729727Z",
          "iopub.execute_input": "2022-01-28T07:44:41.730033Z",
          "iopub.status.idle": "2022-01-28T07:44:41.939874Z",
          "shell.execute_reply.started": "2022-01-28T07:44:41.730000Z",
          "shell.execute_reply": "2022-01-28T07:44:41.938984Z"
        },
        "trusted": true,
        "id": "juFflwDvoNfg",
        "outputId": "dcb90435-cf1d-4312-e1a2-b02170a83e59"
      },
      "execution_count": null,
      "outputs": [
        {
          "execution_count": 47,
          "output_type": "execute_result",
          "data": {
            "text/plain": "Text(0.5, 1.0, 'F1- Scores of various classifiers')"
          },
          "metadata": {}
        },
        {
          "output_type": "display_data",
          "data": {
            "text/plain": "<Figure size 432x288 with 1 Axes>",
            "image/png": "[encoded data removed]"
          },
          "metadata": {
            "needs_background": "light"
          }
        }
      ]
    },
    {
      "cell_type": "markdown",
      "source": [
        "We can see we get best scores for KNN and SVC and worst score for Gaussian Naive Bayes.\n",
        "\n",
        "The reason could be that we are analysing pixel points of image and knn and SVC are distance based classifiers which is apt for this case ."
      ],
      "metadata": {
        "id": "AnwIiykYoNfg"
      }
    },
    {
      "cell_type": "markdown",
      "source": [
        "### 6.Macro Average\n",
        "It is average of precision of each class.\n",
        "Macro Average =(Precision Class A + Precision Class B)/2"
      ],
      "metadata": {
        "id": "HfrpVxrmoNfh"
      }
    },
    {
      "cell_type": "markdown",
      "source": [
        "### 7.Weighted Average\n",
        "It is weighted average of precision of each class.\n",
        "Na*PrecisionA +Nb*PrecisionB/ Total elements"
      ],
      "metadata": {
        "id": "X7zYqKtfoNfh"
      }
    },
    {
      "cell_type": "markdown",
      "source": [
        "## Precision - Recall Curve\n",
        "\n",
        "Increasing precision reduces recall, and vice versa. This is called the precision/recall trade-off. We can plot PR Curve to decide on the decision threshold based on our requirement of precision /recall."
      ],
      "metadata": {
        "id": "AGfHagcboNfh"
      }
    },
    {
      "cell_type": "markdown",
      "source": [
        "## Cross Validation Score\n",
        "\n",
        "We can use cross validation to test our model across several folds of data to get better metric for evaluation which is not biased. This comes at a cost of more training time ."
      ],
      "metadata": {
        "id": "vlbWY-IhoNfi"
      }
    },
    {
      "cell_type": "code",
      "source": [
        "#Cross val score,cross val predict\n",
        "from sklearn.model_selection import cross_val_score,cross_val_predict\n",
        "\n",
        "print(cross_val_score(logis_clf,X_train,y_train))\n",
        "\n",
        "#y_cross_pred= cross_val_predict(knn_clf,X_test,y_test,method='decision_function')"
      ],
      "metadata": {
        "id": "_Sh7Xe_3oNfi"
      },
      "execution_count": null,
      "outputs": []
    },
    {
      "cell_type": "markdown",
      "source": [
        "## Submission CSV\n",
        "\n",
        "Finally out of all the above classifier we got maximum accuracy for SVC so using it to generate prediction for test.csv for our submission"
      ],
      "metadata": {
        "id": "2IkNJe0DoNfi"
      }
    },
    {
      "cell_type": "code",
      "source": [
        "y_test_predictions=svc_clf.predict(test)"
      ],
      "metadata": {
        "execution": {
          "iopub.status.busy": "2022-01-28T07:45:23.307577Z",
          "iopub.execute_input": "2022-01-28T07:45:23.307874Z",
          "iopub.status.idle": "2022-01-28T07:46:57.383794Z",
          "shell.execute_reply.started": "2022-01-28T07:45:23.307839Z",
          "shell.execute_reply": "2022-01-28T07:46:57.382679Z"
        },
        "trusted": true,
        "id": "28S794ycoNfj"
      },
      "execution_count": null,
      "outputs": []
    },
    {
      "cell_type": "code",
      "source": [
        "y_test_predictions"
      ],
      "metadata": {
        "trusted": true,
        "id": "3M9pItvOoNfj",
        "outputId": "8c9b296a-1884-4abb-d7b7-178d5a7fca5e"
      },
      "execution_count": null,
      "outputs": [
        {
          "execution_count": 49,
          "output_type": "execute_result",
          "data": {
            "text/plain": "array([ True, False, False, ..., False, False,  True])"
          },
          "metadata": {}
        }
      ]
    },
    {
      "cell_type": "code",
      "source": [
        "ImageId=[i for i in range(1,28001)]\n",
        "submission=pd.DataFrame({\"ImageId\":ImageId,\"Label\":y_test_predictions},columns=['ImageId','Label'])\n",
        "\n",
        "submission.head()"
      ],
      "metadata": {
        "_kg_hide-input": true,
        "execution": {
          "iopub.status.busy": "2022-01-28T07:56:19.039516Z",
          "iopub.execute_input": "2022-01-28T07:56:19.039833Z",
          "iopub.status.idle": "2022-01-28T07:56:19.066107Z",
          "shell.execute_reply.started": "2022-01-28T07:56:19.039798Z",
          "shell.execute_reply": "2022-01-28T07:56:19.065146Z"
        },
        "trusted": true,
        "id": "uy-UzWr5oNfk",
        "outputId": "48dda3e8-b903-46a4-9075-a9ac551ddc1a"
      },
      "execution_count": null,
      "outputs": [
        {
          "execution_count": 69,
          "output_type": "execute_result",
          "data": {
            "text/plain": "   ImageId  Label\n0        1   True\n1        2  False\n2        3  False\n3        4  False\n4        5  False",
            "text/html": "<div>\n<style scoped>\n    .dataframe tbody tr th:only-of-type {\n        vertical-align: middle;\n    }\n\n    .dataframe tbody tr th {\n        vertical-align: top;\n    }\n\n    .dataframe thead th {\n        text-align: right;\n    }\n</style>\n<table border=\"1\" class=\"dataframe\">\n  <thead>\n    <tr style=\"text-align: right;\">\n      <th></th>\n      <th>ImageId</th>\n      <th>Label</th>\n    </tr>\n  </thead>\n  <tbody>\n    <tr>\n      <th>0</th>\n      <td>1</td>\n      <td>True</td>\n    </tr>\n    <tr>\n      <th>1</th>\n      <td>2</td>\n      <td>False</td>\n    </tr>\n    <tr>\n      <th>2</th>\n      <td>3</td>\n      <td>False</td>\n    </tr>\n    <tr>\n      <th>3</th>\n      <td>4</td>\n      <td>False</td>\n    </tr>\n    <tr>\n      <th>4</th>\n      <td>5</td>\n      <td>False</td>\n    </tr>\n  </tbody>\n</table>\n</div>"
          },
          "metadata": {}
        }
      ]
    },
    {
      "cell_type": "code",
      "source": [
        "submission.to_csv(\"./submission.csv\",index=False)"
      ],
      "metadata": {
        "execution": {
          "iopub.status.busy": "2022-01-28T07:57:34.229269Z",
          "iopub.execute_input": "2022-01-28T07:57:34.230074Z",
          "iopub.status.idle": "2022-01-28T07:57:34.286022Z",
          "shell.execute_reply.started": "2022-01-28T07:57:34.230037Z",
          "shell.execute_reply": "2022-01-28T07:57:34.285120Z"
        },
        "trusted": true,
        "id": "_TaKRbaCoNfk"
      },
      "execution_count": null,
      "outputs": []
    }
  ]
}