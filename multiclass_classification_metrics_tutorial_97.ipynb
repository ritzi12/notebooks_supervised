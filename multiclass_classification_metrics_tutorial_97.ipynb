{
  "metadata": {
    "kernelspec": {
      "language": "python",
      "display_name": "Python 3",
      "name": "python3"
    },
    "language_info": {
      "pygments_lexer": "ipython3",
      "nbconvert_exporter": "python",
      "version": "3.6.4",
      "file_extension": ".py",
      "codemirror_mode": {
        "name": "ipython",
        "version": 3
      },
      "name": "python",
      "mimetype": "text/x-python"
    },
    "colab": {
      "provenance": [],
      "include_colab_link": true
    }
  },
  "nbformat_minor": 0,
  "nbformat": 4,
  "cells": [
    {
      "cell_type": "markdown",
      "metadata": {
        "id": "view-in-github",
        "colab_type": "text"
      },
      "source": [
        "<a href=\"https://colab.research.google.com/github/ritzi12/notebooks_supervised/blob/main/multiclass_classification_metrics_tutorial_97.ipynb\" target=\"_parent\"><img src=\"https://colab.research.google.com/assets/colab-badge.svg\" alt=\"Open In Colab\"/></a>"
      ]
    },
    {
      "cell_type": "code",
      "source": [
        "# This Python 3 environment comes with many helpful analytics libraries installed\n",
        "# It is defined by the kaggle/python Docker image: https://github.com/kaggle/docker-python\n",
        "# For example, here's several helpful packages to load\n",
        "\n",
        "import numpy as np # linear algebra\n",
        "import pandas as pd # data processing, CSV file I/O (e.g. pd.read_csv)\n",
        "\n",
        "# Input data files are available in the read-only \"../input/\" directory\n",
        "# For example, running this (by clicking run or pressing Shift+Enter) will list all files under the input directory\n",
        "\n",
        "import os\n",
        "for dirname, _, filenames in os.walk('/kaggle/input'):\n",
        "    for filename in filenames:\n",
        "        print(os.path.join(dirname, filename))\n",
        "\n",
        "# You can write up to 20GB to the current directory (/kaggle/working/) that gets preserved as output when you create a version using \"Save & Run All\"\n",
        "# You can also write temporary files to /kaggle/temp/, but they won't be saved outside of the current session"
      ],
      "metadata": {
        "_uuid": "8f2839f25d086af736a60e9eeb907d3b93b6e0e5",
        "_cell_guid": "b1076dfc-b9ad-4769-8c92-a6c4dae69d19",
        "execution": {
          "iopub.status.busy": "2022-02-25T12:04:14.621955Z",
          "iopub.execute_input": "2022-02-25T12:04:14.622611Z",
          "iopub.status.idle": "2022-02-25T12:04:14.656324Z",
          "shell.execute_reply.started": "2022-02-25T12:04:14.622507Z",
          "shell.execute_reply": "2022-02-25T12:04:14.655355Z"
        },
        "trusted": true,
        "id": "Di_QrPzH5Pnh"
      },
      "execution_count": null,
      "outputs": []
    },
    {
      "cell_type": "markdown",
      "source": [
        "This notebook is a tutorial on various classifiers that can be used for multiclass classifications and also we will go through various classification metrics used to evaluate such a classifier.\n",
        "\n",
        "## Strategy Used\n",
        "Usually following strategy is used to tackle such problems:\n",
        "1. One vs Rest\n",
        "2. One vs One\n",
        " We will also go through classifiers which inherently can handle multiclass data as per scikit learn's implementation.\n",
        " For more details one can visit documentation here <br>\n",
        " https://scikit-learn.org/stable/modules/multiclass.html#:~:text=Multiclass%20classification%20is%20a%20classification,an%20apple%2C%20or%20a%20pear."
      ],
      "metadata": {
        "id": "5yRjckDY5Pnq"
      }
    },
    {
      "cell_type": "code",
      "source": [
        "#import important libraries\n",
        "import pandas as pd\n",
        "from sklearn.datasets import fetch_openml\n",
        "import numpy as np\n"
      ],
      "metadata": {
        "execution": {
          "iopub.status.busy": "2022-02-25T12:04:14.658303Z",
          "iopub.execute_input": "2022-02-25T12:04:14.658587Z",
          "iopub.status.idle": "2022-02-25T12:04:15.720150Z",
          "shell.execute_reply.started": "2022-02-25T12:04:14.658550Z",
          "shell.execute_reply": "2022-02-25T12:04:15.719334Z"
        },
        "trusted": true,
        "id": "alq8KMBM5Pnv"
      },
      "execution_count": null,
      "outputs": []
    },
    {
      "cell_type": "code",
      "source": [
        "train=pd.read_csv('../input/digit-recognizer/train.csv')\n",
        "train.head()"
      ],
      "metadata": {
        "execution": {
          "iopub.status.busy": "2022-02-25T12:04:15.721698Z",
          "iopub.execute_input": "2022-02-25T12:04:15.722187Z",
          "iopub.status.idle": "2022-02-25T12:04:19.173596Z",
          "shell.execute_reply.started": "2022-02-25T12:04:15.722148Z",
          "shell.execute_reply": "2022-02-25T12:04:19.172867Z"
        },
        "trusted": true,
        "id": "1G_C-Oi65Pny"
      },
      "execution_count": null,
      "outputs": []
    },
    {
      "cell_type": "code",
      "source": [
        "train.shape #42,000 rows of data with each row having (28*28=784 features or col with pixel values)"
      ],
      "metadata": {
        "execution": {
          "iopub.status.busy": "2022-02-25T12:04:19.175992Z",
          "iopub.execute_input": "2022-02-25T12:04:19.176541Z",
          "iopub.status.idle": "2022-02-25T12:04:19.183122Z",
          "shell.execute_reply.started": "2022-02-25T12:04:19.176498Z",
          "shell.execute_reply": "2022-02-25T12:04:19.182186Z"
        },
        "trusted": true,
        "id": "OZNPlDI-5Pn0"
      },
      "execution_count": null,
      "outputs": []
    },
    {
      "cell_type": "code",
      "source": [
        "X=train.iloc[:,1:]\n",
        "Y=train.label"
      ],
      "metadata": {
        "execution": {
          "iopub.status.busy": "2022-02-25T12:04:19.184676Z",
          "iopub.execute_input": "2022-02-25T12:04:19.185002Z",
          "iopub.status.idle": "2022-02-25T12:04:19.194168Z",
          "shell.execute_reply.started": "2022-02-25T12:04:19.184950Z",
          "shell.execute_reply": "2022-02-25T12:04:19.193286Z"
        },
        "trusted": true,
        "id": "0E7g94fm5Pn1"
      },
      "execution_count": null,
      "outputs": []
    },
    {
      "cell_type": "code",
      "source": [
        "X.shape"
      ],
      "metadata": {
        "execution": {
          "iopub.status.busy": "2022-02-25T12:04:19.195616Z",
          "iopub.execute_input": "2022-02-25T12:04:19.195911Z",
          "iopub.status.idle": "2022-02-25T12:04:19.205187Z",
          "shell.execute_reply.started": "2022-02-25T12:04:19.195874Z",
          "shell.execute_reply": "2022-02-25T12:04:19.204381Z"
        },
        "trusted": true,
        "id": "Q5BPhxP85Pn2"
      },
      "execution_count": null,
      "outputs": []
    },
    {
      "cell_type": "code",
      "source": [
        "test=pd.read_csv('../input/digit-recognizer/test.csv')\n",
        "test.head()"
      ],
      "metadata": {
        "execution": {
          "iopub.status.busy": "2022-02-25T12:04:19.206853Z",
          "iopub.execute_input": "2022-02-25T12:04:19.207225Z",
          "iopub.status.idle": "2022-02-25T12:04:21.065122Z",
          "shell.execute_reply.started": "2022-02-25T12:04:19.207188Z",
          "shell.execute_reply": "2022-02-25T12:04:21.064435Z"
        },
        "trusted": true,
        "id": "M7G_QJ0W5Pn4"
      },
      "execution_count": null,
      "outputs": []
    },
    {
      "cell_type": "code",
      "source": [
        "sum(Y==2)"
      ],
      "metadata": {
        "execution": {
          "iopub.status.busy": "2022-02-25T12:04:21.066559Z",
          "iopub.execute_input": "2022-02-25T12:04:21.066820Z",
          "iopub.status.idle": "2022-02-25T12:04:21.078238Z",
          "shell.execute_reply.started": "2022-02-25T12:04:21.066785Z",
          "shell.execute_reply": "2022-02-25T12:04:21.077562Z"
        },
        "trusted": true,
        "id": "pcibpfd35Pn6"
      },
      "execution_count": null,
      "outputs": []
    },
    {
      "cell_type": "code",
      "source": [
        "#PLOT images\n",
        "import matplotlib as mpl\n",
        "import matplotlib.pyplot as plt\n",
        "\n",
        "some_digit = X.loc[4,:].values\n",
        "some_digit_image = some_digit.reshape(28, 28)#reshaping into 2-D image matrix\n",
        "\n",
        "plt.imshow(some_digit_image)\n",
        "plt.axis(\"off\")\n",
        "plt.show()"
      ],
      "metadata": {
        "execution": {
          "iopub.status.busy": "2022-02-25T12:04:21.079545Z",
          "iopub.execute_input": "2022-02-25T12:04:21.080091Z",
          "iopub.status.idle": "2022-02-25T12:04:21.186733Z",
          "shell.execute_reply.started": "2022-02-25T12:04:21.080053Z",
          "shell.execute_reply": "2022-02-25T12:04:21.185665Z"
        },
        "trusted": true,
        "id": "_h0NMV6a5Pn7"
      },
      "execution_count": null,
      "outputs": []
    },
    {
      "cell_type": "markdown",
      "source": [
        "# MultiClass Classification Methods"
      ],
      "metadata": {
        "id": "bDdpER3W5Pn8"
      }
    },
    {
      "cell_type": "code",
      "source": [
        "# #Label Encoding : If digit is  2 value true else false\n",
        "\n",
        "# #target value is in integer converting to boolean\n",
        "# y_is_digit2= (Y==2)\n",
        "# y_is_digit2"
      ],
      "metadata": {
        "execution": {
          "iopub.status.busy": "2022-02-25T12:04:21.190173Z",
          "iopub.execute_input": "2022-02-25T12:04:21.190956Z",
          "iopub.status.idle": "2022-02-25T12:04:21.194950Z",
          "shell.execute_reply.started": "2022-02-25T12:04:21.190905Z",
          "shell.execute_reply": "2022-02-25T12:04:21.194046Z"
        },
        "trusted": true,
        "id": "vCwvlydM5Pn9"
      },
      "execution_count": null,
      "outputs": []
    },
    {
      "cell_type": "code",
      "source": [
        "from sklearn.model_selection import train_test_split\n",
        "\n",
        "X_train,X_test,y_train,y_test=train_test_split(X,Y,random_state=1,stratify=Y)"
      ],
      "metadata": {
        "execution": {
          "iopub.status.busy": "2022-02-25T12:04:21.196503Z",
          "iopub.execute_input": "2022-02-25T12:04:21.196854Z",
          "iopub.status.idle": "2022-02-25T12:04:21.517085Z",
          "shell.execute_reply.started": "2022-02-25T12:04:21.196813Z",
          "shell.execute_reply": "2022-02-25T12:04:21.516248Z"
        },
        "trusted": true,
        "id": "jJOvVuEK5Pn9"
      },
      "execution_count": null,
      "outputs": []
    },
    {
      "cell_type": "code",
      "source": [
        "display(y_train.value_counts())\n",
        "display(y_test.value_counts())"
      ],
      "metadata": {
        "execution": {
          "iopub.status.busy": "2022-02-25T12:04:21.518519Z",
          "iopub.execute_input": "2022-02-25T12:04:21.518763Z",
          "iopub.status.idle": "2022-02-25T12:04:21.532045Z",
          "shell.execute_reply.started": "2022-02-25T12:04:21.518730Z",
          "shell.execute_reply": "2022-02-25T12:04:21.531363Z"
        },
        "trusted": true,
        "id": "ihRdgkOb5Pn-"
      },
      "execution_count": null,
      "outputs": []
    },
    {
      "cell_type": "code",
      "source": [
        "\n",
        "#Dictionary to store scores of various classifiers\n",
        "score_dict={} #initialize"
      ],
      "metadata": {
        "execution": {
          "iopub.status.busy": "2022-02-25T12:04:21.533513Z",
          "iopub.execute_input": "2022-02-25T12:04:21.534208Z",
          "iopub.status.idle": "2022-02-25T12:04:21.537679Z",
          "shell.execute_reply.started": "2022-02-25T12:04:21.534171Z",
          "shell.execute_reply": "2022-02-25T12:04:21.537047Z"
        },
        "trusted": true,
        "id": "7PoaXjN85Pn-"
      },
      "execution_count": null,
      "outputs": []
    },
    {
      "cell_type": "markdown",
      "source": [
        "# 1) Decision Tree CLASSIFIER\n",
        "\n",
        "It is the most commonly used supervised ml method used due to it's fast implementation and easy interpretation.\n"
      ],
      "metadata": {
        "id": "s6QIOxo45Pn_"
      }
    },
    {
      "cell_type": "code",
      "source": [
        "from sklearn.tree import DecisionTreeClassifier\n",
        "from random import seed\n",
        "\n",
        "seed(123) # setting  random seed for reproducibility\n",
        "\n",
        "#create instance of Knn classifier\n",
        "dec_tree_clf=DecisionTreeClassifier(max_depth=20,class_weight='balanced')\n",
        "\n",
        "dec_tree_clf.fit(X_train,y_train)"
      ],
      "metadata": {
        "execution": {
          "iopub.status.busy": "2022-02-25T12:04:21.538965Z",
          "iopub.execute_input": "2022-02-25T12:04:21.539416Z",
          "iopub.status.idle": "2022-02-25T12:04:29.131798Z",
          "shell.execute_reply.started": "2022-02-25T12:04:21.539381Z",
          "shell.execute_reply": "2022-02-25T12:04:29.130854Z"
        },
        "trusted": true,
        "id": "U9hsLR5g5Pn_"
      },
      "execution_count": null,
      "outputs": []
    },
    {
      "cell_type": "code",
      "source": [
        "score=dec_tree_clf.score(X_test,y_test)\n",
        "print(score)\n",
        "score_dict['DecisionTree']=score"
      ],
      "metadata": {
        "execution": {
          "iopub.status.busy": "2022-02-25T12:04:29.134099Z",
          "iopub.execute_input": "2022-02-25T12:04:29.134356Z",
          "iopub.status.idle": "2022-02-25T12:04:29.170423Z",
          "shell.execute_reply.started": "2022-02-25T12:04:29.134321Z",
          "shell.execute_reply": "2022-02-25T12:04:29.169665Z"
        },
        "trusted": true,
        "id": "y1Nheu6a5Pn_"
      },
      "execution_count": null,
      "outputs": []
    },
    {
      "cell_type": "markdown",
      "source": [
        "## 2) Stochastic Gradient Descent Classifier\n",
        "\n",
        "This classifier has the advantage of being **capable of handling very large datasets efficiently**. This is in part because SGD deals with training instances independently, one at a time (which also makes SGD well suited for online learning)"
      ],
      "metadata": {
        "id": "9NJuTRIF5PoA"
      }
    },
    {
      "cell_type": "code",
      "source": [
        "from sklearn.linear_model import SGDClassifier\n",
        "\n",
        "sgd_clf = SGDClassifier(random_state=42)\n",
        "sgd_clf.fit(X_train, y_train)"
      ],
      "metadata": {
        "execution": {
          "iopub.status.busy": "2022-02-25T12:04:29.171762Z",
          "iopub.execute_input": "2022-02-25T12:04:29.172037Z",
          "iopub.status.idle": "2022-02-25T12:05:30.214522Z",
          "shell.execute_reply.started": "2022-02-25T12:04:29.172001Z",
          "shell.execute_reply": "2022-02-25T12:05:30.213784Z"
        },
        "trusted": true,
        "id": "jQKEItLk5PoA"
      },
      "execution_count": null,
      "outputs": []
    },
    {
      "cell_type": "code",
      "source": [
        "y_pred_sgd = sgd_clf.predict(X_test)\n",
        "score=sgd_clf.score(X_test,y_test)\n",
        "print(score)\n",
        "score_dict['SGDClassifier']=score"
      ],
      "metadata": {
        "execution": {
          "iopub.status.busy": "2022-02-25T12:05:30.215928Z",
          "iopub.execute_input": "2022-02-25T12:05:30.216404Z",
          "iopub.status.idle": "2022-02-25T12:05:30.406418Z",
          "shell.execute_reply.started": "2022-02-25T12:05:30.216347Z",
          "shell.execute_reply": "2022-02-25T12:05:30.400657Z"
        },
        "trusted": true,
        "id": "K2cL46FV5PoB"
      },
      "execution_count": null,
      "outputs": []
    },
    {
      "cell_type": "markdown",
      "source": [
        "### Modifying SGD Classifier\n",
        "\n",
        "Using the OneVsRestClassifier class to construct OVO classifier of SGD."
      ],
      "metadata": {
        "id": "-EeOhj1u5PoB"
      }
    },
    {
      "cell_type": "code",
      "source": [
        "from sklearn.multiclass import OneVsOneClassifier\n",
        "sgd_modified=OneVsOneClassifier(SGDClassifier(random_state=42))\n",
        "sgd_modified.fit(X_train,y_train)"
      ],
      "metadata": {
        "execution": {
          "iopub.status.busy": "2022-02-25T12:05:30.408083Z",
          "iopub.execute_input": "2022-02-25T12:05:30.408967Z",
          "iopub.status.idle": "2022-02-25T12:05:47.351666Z",
          "shell.execute_reply.started": "2022-02-25T12:05:30.408927Z",
          "shell.execute_reply": "2022-02-25T12:05:47.350862Z"
        },
        "trusted": true,
        "id": "MNuqBgDq5PoB"
      },
      "execution_count": null,
      "outputs": []
    },
    {
      "cell_type": "code",
      "source": [
        "y_pred_sgd_mod = sgd_modified.predict(X_test)\n",
        "score=sgd_modified.score(X_test,y_test)\n",
        "print(score)\n",
        "score_dict['SGD Classifier Modified']=score"
      ],
      "metadata": {
        "execution": {
          "iopub.status.busy": "2022-02-25T12:05:47.353291Z",
          "iopub.execute_input": "2022-02-25T12:05:47.354218Z",
          "iopub.status.idle": "2022-02-25T12:06:00.822189Z",
          "shell.execute_reply.started": "2022-02-25T12:05:47.354180Z",
          "shell.execute_reply": "2022-02-25T12:06:00.821060Z"
        },
        "trusted": true,
        "id": "EtTupnGT5PoC"
      },
      "execution_count": null,
      "outputs": []
    },
    {
      "cell_type": "markdown",
      "source": [
        "## 3) Gaussian Naive Bayes Classifier\n",
        "\n",
        "Naive Bayes is the most common classifier for binary classification. It is fast and easy to calculate.Naive — Bayes is a classifier which uses Bayes Theorem. It calculates the probability for membership of a data-point to each class and assigns the label of the class with the highest probability.\n",
        "\n",
        "For our MNIST dataset we have continuous features so we can apply Gaussian Naive Bayes which assumes distribution of feature values as Gaussian Distribution ."
      ],
      "metadata": {
        "id": "z1i-GoGS5PoC"
      }
    },
    {
      "cell_type": "code",
      "source": [
        "from sklearn.naive_bayes  import GaussianNB\n",
        "\n",
        "gauss_clf= GaussianNB()\n",
        "gauss_clf.fit(X_train,y_train)\n",
        "\n",
        "score=gauss_clf.score(X_test,y_test)\n",
        "print(score)\n",
        "score_dict['Gaussian NB']=score"
      ],
      "metadata": {
        "execution": {
          "iopub.status.busy": "2022-02-25T12:06:00.823836Z",
          "iopub.execute_input": "2022-02-25T12:06:00.824353Z",
          "iopub.status.idle": "2022-02-25T12:06:01.978533Z",
          "shell.execute_reply.started": "2022-02-25T12:06:00.824306Z",
          "shell.execute_reply": "2022-02-25T12:06:01.977751Z"
        },
        "trusted": true,
        "id": "eI_SBiTK5PoE"
      },
      "execution_count": null,
      "outputs": []
    },
    {
      "cell_type": "code",
      "source": [
        "print('The mean of each pixel for True class',gauss_clf.theta_[2].shape)\n",
        "fig,axis=plt.subplots(2,2)\n",
        "axis[0,0].imshow(gauss_clf.theta_[2].reshape(28,28))\n",
        "axis[0,0].axis('off')\n",
        "axis[0,1].imshow(gauss_clf.theta_[3].reshape(28,28))\n",
        "axis[0,1].axis('off')\n",
        "axis[1,0].imshow(gauss_clf.theta_[4].reshape(28,28))\n",
        "axis[1,0].axis('off')\n",
        "axis[1,1].imshow(gauss_clf.theta_[5].reshape(28,28))\n",
        "axis[1,1].axis('off')"
      ],
      "metadata": {
        "execution": {
          "iopub.status.busy": "2022-02-25T12:06:01.979706Z",
          "iopub.execute_input": "2022-02-25T12:06:01.980277Z",
          "iopub.status.idle": "2022-02-25T12:06:02.193628Z",
          "shell.execute_reply.started": "2022-02-25T12:06:01.980237Z",
          "shell.execute_reply": "2022-02-25T12:06:02.192775Z"
        },
        "trusted": true,
        "id": "hv0g5IIe5PoE"
      },
      "execution_count": null,
      "outputs": []
    },
    {
      "cell_type": "code",
      "source": [
        "y_pred_gauss=gauss_clf.predict(X_test)"
      ],
      "metadata": {
        "execution": {
          "iopub.status.busy": "2022-02-25T12:06:02.195603Z",
          "iopub.execute_input": "2022-02-25T12:06:02.196339Z",
          "iopub.status.idle": "2022-02-25T12:06:02.789267Z",
          "shell.execute_reply.started": "2022-02-25T12:06:02.196296Z",
          "shell.execute_reply": "2022-02-25T12:06:02.788477Z"
        },
        "trusted": true,
        "id": "9SqWTKiE5PoF"
      },
      "execution_count": null,
      "outputs": []
    },
    {
      "cell_type": "markdown",
      "source": [
        "## 4) Logistic Regression Classifier\n",
        "\n",
        " It it the most common regression classifier .  Like a Linear Regression model, a Logistic Regression model computes a weighted sum of the input features (plus a bias term), but instead of outputting the result directly like the Linear Regression model does, it outputs the logistic or **sigmoid** function output which gives the probability of belonging to a class or not and output range of sigmoid function (0,1)"
      ],
      "metadata": {
        "id": "smDpFWkk5PoF"
      }
    },
    {
      "cell_type": "code",
      "source": [
        "from sklearn.linear_model import LogisticRegression\n",
        "from sklearn.preprocessing import StandardScaler\n",
        "\n",
        "scaler=StandardScaler()\n",
        "scaler.fit(X_train)   #fit calculates the mean and std dev for each feature in data\n",
        "X_train_scaled=scaler.transform(X_train) #transforming the X_train feature inputs\n",
        "logis_clf=LogisticRegression(solver='sag')\n",
        "logis_clf.fit(X_train_scaled,y_train)"
      ],
      "metadata": {
        "execution": {
          "iopub.status.busy": "2022-02-25T12:06:02.790857Z",
          "iopub.execute_input": "2022-02-25T12:06:02.791115Z",
          "iopub.status.idle": "2022-02-25T12:07:37.774860Z",
          "shell.execute_reply.started": "2022-02-25T12:06:02.791081Z",
          "shell.execute_reply": "2022-02-25T12:07:37.773896Z"
        },
        "trusted": true,
        "id": "WqOW6OdP5PoF"
      },
      "execution_count": null,
      "outputs": []
    },
    {
      "cell_type": "code",
      "source": [
        "X_test_scaled=scaler.transform(X_test) #scaling the test set note we dont use fit on test set which is wrong since it leads to data leakage\n",
        "score=logis_clf.score(X_test_scaled,y_test)\n",
        "print(score)\n",
        "score_dict['LogisticReg']=score"
      ],
      "metadata": {
        "execution": {
          "iopub.status.busy": "2022-02-25T12:07:37.776865Z",
          "iopub.execute_input": "2022-02-25T12:07:37.777410Z",
          "iopub.status.idle": "2022-02-25T12:07:37.895177Z",
          "shell.execute_reply.started": "2022-02-25T12:07:37.777368Z",
          "shell.execute_reply": "2022-02-25T12:07:37.894410Z"
        },
        "trusted": true,
        "id": "Tp9NDBLI5PoG"
      },
      "execution_count": null,
      "outputs": []
    },
    {
      "cell_type": "code",
      "source": [
        "y_pred_logis=logis_clf.predict(X_test)"
      ],
      "metadata": {
        "execution": {
          "iopub.status.busy": "2022-02-25T12:07:37.897310Z",
          "iopub.execute_input": "2022-02-25T12:07:37.898647Z",
          "iopub.status.idle": "2022-02-25T12:07:38.008748Z",
          "shell.execute_reply.started": "2022-02-25T12:07:37.898606Z",
          "shell.execute_reply": "2022-02-25T12:07:38.007822Z"
        },
        "trusted": true,
        "id": "APOFNQd95PoH"
      },
      "execution_count": null,
      "outputs": []
    },
    {
      "cell_type": "markdown",
      "source": [
        "## 5) Support Vector Machines\n",
        "\n",
        "SVM is a powerful classifier/regression algorithms . They are non-parametric and can construct complex decision boundaries. For multclass classification SVM by default uses One vs One Method."
      ],
      "metadata": {
        "id": "Qzlf1AJZ5PoJ"
      }
    },
    {
      "cell_type": "code",
      "source": [
        "from sklearn.svm import SVC\n",
        "\n",
        "svc_clf=SVC(random_state=123,class_weight='balanced') #using default kernel 'rbf'\n",
        "svc_clf.fit(X_train,y_train)\n"
      ],
      "metadata": {
        "execution": {
          "iopub.status.busy": "2022-02-25T12:07:38.010962Z",
          "iopub.execute_input": "2022-02-25T12:07:38.012050Z",
          "iopub.status.idle": "2022-02-25T12:10:38.879022Z",
          "shell.execute_reply.started": "2022-02-25T12:07:38.012011Z",
          "shell.execute_reply": "2022-02-25T12:10:38.877877Z"
        },
        "trusted": true,
        "id": "zW_Smt1u5PoK"
      },
      "execution_count": null,
      "outputs": []
    },
    {
      "cell_type": "code",
      "source": [
        "score=svc_clf.score(X_test,y_test)\n",
        "print(score)\n",
        "score_dict['SVC']=score"
      ],
      "metadata": {
        "execution": {
          "iopub.status.busy": "2022-02-25T12:10:38.881504Z",
          "iopub.execute_input": "2022-02-25T12:10:38.881785Z",
          "iopub.status.idle": "2022-02-25T12:12:21.420542Z",
          "shell.execute_reply.started": "2022-02-25T12:10:38.881747Z",
          "shell.execute_reply": "2022-02-25T12:12:21.416063Z"
        },
        "trusted": true,
        "id": "arH4mEAs5PoL"
      },
      "execution_count": null,
      "outputs": []
    },
    {
      "cell_type": "code",
      "source": [
        "y_pred_svc=svc_clf.predict(X_test)"
      ],
      "metadata": {
        "execution": {
          "iopub.status.busy": "2022-02-25T12:12:21.433475Z",
          "iopub.execute_input": "2022-02-25T12:12:21.435391Z",
          "iopub.status.idle": "2022-02-25T12:14:03.433472Z",
          "shell.execute_reply.started": "2022-02-25T12:12:21.435341Z",
          "shell.execute_reply": "2022-02-25T12:14:03.432683Z"
        },
        "trusted": true,
        "id": "pVhqcf6a5PoL"
      },
      "execution_count": null,
      "outputs": []
    },
    {
      "cell_type": "markdown",
      "source": [
        "## 6) Random Forest Classifier\n",
        "\n"
      ],
      "metadata": {
        "id": "rEP_p9fN5PoL"
      }
    },
    {
      "cell_type": "code",
      "source": [
        "from sklearn.ensemble import RandomForestClassifier\n",
        "random_clf=RandomForestClassifier(n_estimators=100,class_weight='balanced')\n",
        "random_clf.fit(X_train,y_train)"
      ],
      "metadata": {
        "execution": {
          "iopub.status.busy": "2022-02-25T12:14:03.596432Z",
          "iopub.execute_input": "2022-02-25T12:14:03.597429Z",
          "iopub.status.idle": "2022-02-25T12:14:25.323004Z",
          "shell.execute_reply.started": "2022-02-25T12:14:03.597389Z",
          "shell.execute_reply": "2022-02-25T12:14:25.322073Z"
        },
        "trusted": true,
        "id": "IbMF74OD5PoM"
      },
      "execution_count": null,
      "outputs": []
    },
    {
      "cell_type": "code",
      "source": [
        "score=random_clf.score(X_test,y_test)\n",
        "print(score)\n",
        "score_dict['RandomForest']=score"
      ],
      "metadata": {
        "execution": {
          "iopub.status.busy": "2022-02-25T12:14:25.325594Z",
          "iopub.execute_input": "2022-02-25T12:14:25.325870Z",
          "iopub.status.idle": "2022-02-25T12:14:25.750316Z",
          "shell.execute_reply.started": "2022-02-25T12:14:25.325833Z",
          "shell.execute_reply": "2022-02-25T12:14:25.749391Z"
        },
        "trusted": true,
        "id": "9N93nAMW5PoM"
      },
      "execution_count": null,
      "outputs": []
    },
    {
      "cell_type": "markdown",
      "source": [
        "## Evaluation of Models\n",
        "\n",
        "We see highest score(Accuracy) is received for SVC followed by Random Forest and Logistic Regression."
      ],
      "metadata": {
        "id": "w7XcXQSL5PoW"
      }
    },
    {
      "cell_type": "code",
      "source": [
        "df_score=pd.DataFrame(score_dict,index=[\"Score\"])\n",
        "df_score.transpose()"
      ],
      "metadata": {
        "execution": {
          "iopub.status.busy": "2022-02-25T12:14:25.752768Z",
          "iopub.execute_input": "2022-02-25T12:14:25.753054Z",
          "iopub.status.idle": "2022-02-25T12:14:25.768186Z",
          "shell.execute_reply.started": "2022-02-25T12:14:25.753017Z",
          "shell.execute_reply": "2022-02-25T12:14:25.767267Z"
        },
        "trusted": true,
        "id": "mpaVeuzX5PoW"
      },
      "execution_count": null,
      "outputs": []
    },
    {
      "cell_type": "markdown",
      "source": [
        "# Classification Evaluation Metrics"
      ],
      "metadata": {
        "id": "WGoNsNzW5PoY"
      }
    },
    {
      "cell_type": "markdown",
      "source": [
        "## Confusion Matrix\n",
        "\n",
        "\n",
        "A much better way to evaluate the performance of a classifier is to look at the confusion matrix. The general idea is to count the number of times instances of class A are classified as class B. To compute the confusion matrix, you first need to have a set of predictions so that they can be compared to the actual targets.\n",
        "\n",
        "We need to have predicted classes from each of our classifiers which we calculated earlier (y_pred_knn ,y_pred_sgd...etc.)"
      ],
      "metadata": {
        "id": "A5Vok7oc5Poa"
      }
    },
    {
      "cell_type": "code",
      "source": [
        "#CONFUSION MATRIX\n",
        "from sklearn.metrics import ConfusionMatrixDisplay,confusion_matrix\n",
        "import matplotlib.pyplot as plt\n",
        "\n",
        "#Confusion Matrix\n",
        "conf_mat=confusion_matrix(y_test,y_pred_svc)\n",
        "\n",
        "#Display Confusion Matrix\n",
        "#ConfusionMatrixDisplay(conf_mat,display_labels=['Not Digit 2','Is Digit 2'])\n",
        "#plt.title('Confusion Matrix for KNNeighbors whether a data is digit 2 or not ')\n",
        "#plt.show()"
      ],
      "metadata": {
        "_kg_hide-input": true,
        "execution": {
          "iopub.status.busy": "2022-02-25T12:14:25.770795Z",
          "iopub.execute_input": "2022-02-25T12:14:25.772256Z",
          "iopub.status.idle": "2022-02-25T12:14:25.796516Z",
          "shell.execute_reply.started": "2022-02-25T12:14:25.772216Z",
          "shell.execute_reply": "2022-02-25T12:14:25.795558Z"
        },
        "trusted": true,
        "id": "L4d9_XqL5Pob"
      },
      "execution_count": null,
      "outputs": []
    },
    {
      "cell_type": "code",
      "source": [
        "ig, ax = plt.subplots(figsize=(7.5, 7.5))\n",
        "ax.matshow(conf_mat, cmap=plt.cm.Blues, alpha=0.3)\n",
        "for i in range(conf_mat.shape[0]):\n",
        "    for j in range(conf_mat.shape[1]):\n",
        "        ax.text(x=j, y=i,s=conf_mat[i, j], va='center', ha='center', size='xx-large')\n",
        "\n",
        "plt.xlabel('Predictions', fontsize=18)\n",
        "plt.ylabel('Actuals', fontsize=18)\n",
        "plt.title('Confusion Matrix', fontsize=18)\n",
        "plt.show()"
      ],
      "metadata": {
        "execution": {
          "iopub.status.busy": "2022-02-25T12:14:25.799461Z",
          "iopub.execute_input": "2022-02-25T12:14:25.800903Z",
          "iopub.status.idle": "2022-02-25T12:14:26.479427Z",
          "shell.execute_reply.started": "2022-02-25T12:14:25.800865Z",
          "shell.execute_reply": "2022-02-25T12:14:26.477062Z"
        },
        "trusted": true,
        "id": "kbDjtyTh5Pob"
      },
      "execution_count": null,
      "outputs": []
    },
    {
      "cell_type": "markdown",
      "source": [
        "## Normalized Confusion Matrix\n",
        "We can get normalized confusion matrix by using `normalize` argument of ConfusionMatrixDisplay\n",
        "\n",
        "Using `normalize` =(default ='None')<br>\n",
        "'all'=values divided by total datapoints,<br>\n",
        "'true'= each value divided by corresponding total true values for each class , in this diagonal represent recall<br>\n",
        "'pred'=each value divided by total predicted value for each class,diagonals represent precision<br>\n"
      ],
      "metadata": {
        "id": "uYtaFqpB5Pob"
      }
    },
    {
      "cell_type": "code",
      "source": [
        "# ConfusionMatrixDisplay.from_predictions(y_true=y_test ,y_pred=y_pred_logis,cmap='plasma',normalize='true',display_labels=['Not Digit 2','Is Digit 2'])\n",
        "# plt.title('NOrmalized Confusion Matrix for KNNeighbors based on true values ')\n",
        "# plt.show()\n",
        "# print('Diagonals Represent Recall of each class')"
      ],
      "metadata": {
        "execution": {
          "iopub.status.busy": "2022-02-25T12:14:26.481702Z",
          "iopub.execute_input": "2022-02-25T12:14:26.482838Z",
          "iopub.status.idle": "2022-02-25T12:14:26.486953Z",
          "shell.execute_reply.started": "2022-02-25T12:14:26.482799Z",
          "shell.execute_reply": "2022-02-25T12:14:26.486232Z"
        },
        "trusted": true,
        "id": "17RNhFyg5Poc"
      },
      "execution_count": null,
      "outputs": []
    },
    {
      "cell_type": "markdown",
      "source": [
        "## Classification Report\n"
      ],
      "metadata": {
        "id": "4f0a_NCF5Poc"
      }
    },
    {
      "cell_type": "markdown",
      "source": [
        "### 1.Precision\n",
        "TP/TP+FP = calculated wrt to predicted values.\n",
        "It measures “exactness” of our model . How exact or precise it is in predicting  true positive classes out of all classes that were predicted as positive .\n",
        " When cost of false positive is high High precision is required. Ex- spam email.\n",
        "\n",
        "\n",
        "### 2.Recall/Sensitivity\n",
        "\n",
        "TP/TP+FN = calculated wrt to true values.\n",
        "It “Measures ” completeness of model . How well our model in capture all positive cases out of all the data points.\n",
        "When cost of False Negative is high high recal is required .Ex- target customers to accept discount offer.\n",
        "\n",
        "\n",
        "### 3.Specificity\n",
        "\n",
        "TN/TN+FP  ==calculated wrt to true values.\n",
        "\n",
        "\n",
        "### 4.Accuracy\n",
        "\n",
        "Diagonal elements/Total datapoints = TP+TN/Total Datapoints\n",
        "\n",
        "*Not an accurate metric in case of imbalanced/skewed dataset.*\n",
        "\n",
        "\n",
        "### 5.F-1 Score\n",
        "Harmonic Mean of precision and Recall.F1 score is the harmonic mean of precision and recall (Equation 3-3). Whereas the regular mean treats all values equally, the harmonic mean gives much more weight to low values. As a result, the classifier will only get a high F1 score if both recall and precision are high.\n",
        "\n",
        "F1 score favors classifiers that have similar precision and recall.\n",
        "\n",
        "In some contexts you mostly care about precision, and in other contexts you really care about recall.\n"
      ],
      "metadata": {
        "id": "6XuXBsoc5Pod"
      }
    },
    {
      "cell_type": "code",
      "source": [
        "#CLassification Metric Report\n",
        "from sklearn.metrics import classification_report\n",
        "\n",
        "print(classification_report(y_test,y_pred_svc))"
      ],
      "metadata": {
        "execution": {
          "iopub.status.busy": "2022-02-25T12:19:20.270654Z",
          "iopub.execute_input": "2022-02-25T12:19:20.270936Z",
          "iopub.status.idle": "2022-02-25T12:19:20.308582Z",
          "shell.execute_reply.started": "2022-02-25T12:19:20.270905Z",
          "shell.execute_reply": "2022-02-25T12:19:20.307831Z"
        },
        "trusted": true,
        "id": "N174RdFQ5Pod"
      },
      "execution_count": null,
      "outputs": []
    },
    {
      "cell_type": "markdown",
      "source": [
        "## Analysis of CLassification Report and Matrix\n",
        "\n",
        "* From the classification matrix we can observe that maximum of the data lies on the principal diagonal which means our SVC model is fairly accurate with very less number of misclassifcations\n",
        "\n",
        "* In the report above we can see both precision and recall are similar and high as a result f1 score is also very high with an overall average f1 score of 97%"
      ],
      "metadata": {
        "id": "U5ViVozL5Poe"
      }
    },
    {
      "cell_type": "code",
      "source": [
        "# Calculating F-1 Score for all classifiers since we have imbalanced\n",
        "#dataset so F1 score metric more suitable for this case than accuracy\n",
        "from sklearn.metrics import f1_score\n",
        "\n",
        "\n",
        "# score_df=[y_pred_gauss,y_pred_sgd,y_pred_svc,y_pred_logis]\n",
        "# f1_scores=[]\n",
        "# name=['Gauss','SGD','SVC','Logis']\n",
        "\n",
        "# for score in score_df:\n",
        "#   print(\"The f1 score\")\n",
        "#   f1_scores.append(round(f1_score(y_test,score),3))\n",
        "#   print(f1_scores)\n",
        "\n",
        "\n"
      ],
      "metadata": {
        "_kg_hide-input": true,
        "execution": {
          "iopub.status.busy": "2022-02-25T12:14:26.532764Z",
          "iopub.execute_input": "2022-02-25T12:14:26.534012Z",
          "iopub.status.idle": "2022-02-25T12:14:26.539339Z",
          "shell.execute_reply.started": "2022-02-25T12:14:26.533961Z",
          "shell.execute_reply": "2022-02-25T12:14:26.538414Z"
        },
        "trusted": true,
        "id": "qEMmemFE5Pof"
      },
      "execution_count": null,
      "outputs": []
    },
    {
      "cell_type": "code",
      "source": [
        "# plt.plot(name,f1_scores,'r.-')\n",
        "# plt.title('F1- Scores of various classifiers')"
      ],
      "metadata": {
        "execution": {
          "iopub.status.busy": "2022-02-25T12:14:26.541820Z",
          "iopub.execute_input": "2022-02-25T12:14:26.543128Z",
          "iopub.status.idle": "2022-02-25T12:14:26.548912Z",
          "shell.execute_reply.started": "2022-02-25T12:14:26.543088Z",
          "shell.execute_reply": "2022-02-25T12:14:26.548179Z"
        },
        "trusted": true,
        "id": "mS_-kzt55Pof"
      },
      "execution_count": null,
      "outputs": []
    },
    {
      "cell_type": "markdown",
      "source": [
        "We can see we get best scores for KNN and SVC and worst score for Gaussian Naive Bayes.\n",
        "\n",
        "The reason could be that we are analysing pixel points of image and knn and SVC are distance based classifiers which is apt for this case ."
      ],
      "metadata": {
        "id": "LYjnDqEe5Pog"
      }
    },
    {
      "cell_type": "markdown",
      "source": [
        "### 6.Macro Average\n",
        "It is average of precision of each class.\n",
        "Macro Average =(Precision Class A + Precision Class B)/2"
      ],
      "metadata": {
        "id": "47Yt8zCl5Pog"
      }
    },
    {
      "cell_type": "markdown",
      "source": [
        "### 7.Weighted Average\n",
        "It is weighted average of precision of each class.\n",
        "Na*PrecisionA +Nb*PrecisionB/ Total elements"
      ],
      "metadata": {
        "id": "zpLGTTU65Poi"
      }
    },
    {
      "cell_type": "markdown",
      "source": [
        "## Precision - Recall Curve\n",
        "\n",
        "Increasing precision reduces recall, and vice versa. This is called the precision/recall trade-off. We can plot PR Curve to decide on the decision threshold based on our requirement of precision /recall."
      ],
      "metadata": {
        "id": "bW6OvOIK5Poi"
      }
    },
    {
      "cell_type": "markdown",
      "source": [
        "## Cross Validation Score\n",
        "\n",
        "We can use cross validation to test our model across several folds of data to get better metric for evaluation which is not biased. This comes at a cost of more training time ."
      ],
      "metadata": {
        "id": "2TQ_XFvV5Poj"
      }
    },
    {
      "cell_type": "code",
      "source": [
        "#Cross val score,cross val predict\n",
        "# from sklearn.model_selection import cross_val_score,cross_val_predict\n",
        "\n",
        "# print(cross_val_score(logis_clf,X_train,y_train))\n",
        "\n",
        "#y_cross_pred= cross_val_predict(knn_clf,X_test,y_test,method='decision_function')"
      ],
      "metadata": {
        "execution": {
          "iopub.status.busy": "2022-02-25T12:14:26.559314Z",
          "iopub.execute_input": "2022-02-25T12:14:26.560465Z",
          "iopub.status.idle": "2022-02-25T12:14:26.564640Z",
          "shell.execute_reply.started": "2022-02-25T12:14:26.560429Z",
          "shell.execute_reply": "2022-02-25T12:14:26.563869Z"
        },
        "trusted": true,
        "id": "bagzCjzF5Pok"
      },
      "execution_count": null,
      "outputs": []
    },
    {
      "cell_type": "markdown",
      "source": [
        "## Submission CSV\n",
        "\n",
        "Finally out of all the above classifier we got maximum accuracy for SVC so using it to generate prediction for test.csv for our submission"
      ],
      "metadata": {
        "id": "KFyrPwPu5Pok"
      }
    },
    {
      "cell_type": "code",
      "source": [
        "y_test_predictions=svc_clf.predict(test)"
      ],
      "metadata": {
        "execution": {
          "iopub.status.busy": "2022-02-25T12:14:26.566798Z",
          "iopub.execute_input": "2022-02-25T12:14:26.568108Z",
          "iopub.status.idle": "2022-02-25T12:18:59.682212Z",
          "shell.execute_reply.started": "2022-02-25T12:14:26.568073Z",
          "shell.execute_reply": "2022-02-25T12:18:59.681398Z"
        },
        "trusted": true,
        "id": "WI3fC9cN5Pol"
      },
      "execution_count": null,
      "outputs": []
    },
    {
      "cell_type": "code",
      "source": [
        "y_test_predictions"
      ],
      "metadata": {
        "execution": {
          "iopub.status.busy": "2022-02-25T12:18:59.683338Z",
          "iopub.execute_input": "2022-02-25T12:18:59.683583Z",
          "iopub.status.idle": "2022-02-25T12:18:59.693012Z",
          "shell.execute_reply.started": "2022-02-25T12:18:59.683551Z",
          "shell.execute_reply": "2022-02-25T12:18:59.692052Z"
        },
        "trusted": true,
        "id": "TDARF6YV5Pol"
      },
      "execution_count": null,
      "outputs": []
    },
    {
      "cell_type": "code",
      "source": [
        "ImageId=[i for i in range(1,28001)]\n",
        "submission=pd.DataFrame({\"ImageId\":ImageId,\"Label\":y_test_predictions},columns=['ImageId','Label'])\n",
        "\n",
        "submission.head()"
      ],
      "metadata": {
        "_kg_hide-input": true,
        "execution": {
          "iopub.status.busy": "2022-02-25T12:18:59.695663Z",
          "iopub.execute_input": "2022-02-25T12:18:59.695954Z",
          "iopub.status.idle": "2022-02-25T12:18:59.732131Z",
          "shell.execute_reply.started": "2022-02-25T12:18:59.695916Z",
          "shell.execute_reply": "2022-02-25T12:18:59.731376Z"
        },
        "trusted": true,
        "id": "0CQTf8io5Pom"
      },
      "execution_count": null,
      "outputs": []
    },
    {
      "cell_type": "code",
      "source": [
        "submission.to_csv(\"./submission.csv\",index=False)"
      ],
      "metadata": {
        "execution": {
          "iopub.status.busy": "2022-02-25T12:18:59.734662Z",
          "iopub.execute_input": "2022-02-25T12:18:59.736164Z",
          "iopub.status.idle": "2022-02-25T12:18:59.810528Z",
          "shell.execute_reply.started": "2022-02-25T12:18:59.736122Z",
          "shell.execute_reply": "2022-02-25T12:18:59.809619Z"
        },
        "trusted": true,
        "id": "qMteIDF45Pon"
      },
      "execution_count": null,
      "outputs": []
    }
  ]
}